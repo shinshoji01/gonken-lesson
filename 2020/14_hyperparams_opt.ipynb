{
 "cells": [
  {
   "cell_type": "markdown",
   "metadata": {},
   "source": [
    "Readings:\n",
    "- [パレート最適1](https://www.msi.co.jp/nuopt/glossary/term_7580c4cca4683182e67c9dce181ec128022b6271.html)\n",
    "- [パレート最適2](http://darden.hatenablog.com/entry/2017/05/26/234845)"
   ]
  },
  {
   "cell_type": "markdown",
   "metadata": {},
   "source": [
    "---\n",
    "# 多目的最適化\n",
    "\n",
    "多目的最適化とは"
   ]
  },
  {
   "cell_type": "markdown",
   "metadata": {},
   "source": [
    "___\n",
    "## パレート最適解\n",
    "例えば、家を探す際に、こっちの家は家賃が高いが駅から近い、あっちの家は家賃が安いが駅から遠いが、どちらの家よりも駅から近く、かつこれ以上家賃が安いというような家はないというような場合を考える。そのような時にもどちらの家の方が良いかはそれぞれの人次第である。そのような、人によって優劣が変わるような最適解のことをパレート最適解と言う。"
   ]
  },
  {
   "cell_type": "code",
   "execution_count": null,
   "metadata": {},
   "outputs": [],
   "source": []
  }
 ],
 "metadata": {
  "kernelspec": {
   "display_name": "Python 3",
   "language": "python",
   "name": "python3"
  },
  "language_info": {
   "codemirror_mode": {
    "name": "ipython",
    "version": 3
   },
   "file_extension": ".py",
   "mimetype": "text/x-python",
   "name": "python",
   "nbconvert_exporter": "python",
   "pygments_lexer": "ipython3",
   "version": "3.7.4"
  }
 },
 "nbformat": 4,
 "nbformat_minor": 4
}
