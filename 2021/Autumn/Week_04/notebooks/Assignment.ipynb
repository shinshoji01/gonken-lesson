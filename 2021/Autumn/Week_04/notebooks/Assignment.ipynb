{
 "cells": [
  {
   "cell_type": "code",
   "execution_count": 1,
   "metadata": {},
   "outputs": [],
   "source": [
    "import warnings\n",
    "warnings.filterwarnings(\"ignore\")\n",
    "import torch\n",
    "import torch.optim as optim\n",
    "from IPython.display import clear_output\n",
    "import numpy as np\n",
    "import matplotlib.pyplot as plt\n",
    "import torch.nn.functional as F"
   ]
  },
  {
   "cell_type": "code",
   "execution_count": 2,
   "metadata": {},
   "outputs": [],
   "source": [
    "import sys\n",
    "sys.path.append(\"../pyfiles/\")\n",
    "from util import weights_init, cuda2numpy, do_test_VAE, image_from_output, image_from_numpy\n",
    "from dataset import transform, Dataset_MNIST\n",
    "from model import VAE"
   ]
  },
  {
   "cell_type": "code",
   "execution_count": 3,
   "metadata": {},
   "outputs": [
    {
     "data": {
      "text/html": [
       "        <script type=\"text/javascript\">\n",
       "        window.PlotlyConfig = {MathJaxConfig: 'local'};\n",
       "        if (window.MathJax) {MathJax.Hub.Config({SVG: {font: \"STIX-Web\"}});}\n",
       "        if (typeof require !== 'undefined') {\n",
       "        require.undef(\"plotly\");\n",
       "        requirejs.config({\n",
       "            paths: {\n",
       "                'plotly': ['https://cdn.plot.ly/plotly-latest.min']\n",
       "            }\n",
       "        });\n",
       "        require(['plotly'], function(Plotly) {\n",
       "            window._Plotly = Plotly;\n",
       "        });\n",
       "        }\n",
       "        </script>\n",
       "        "
      ]
     },
     "metadata": {},
     "output_type": "display_data"
    }
   ],
   "source": [
    "import plotly\n",
    "from plotly.offline import iplot\n",
    "import plotly.graph_objs as go\n",
    "plotly.offline.init_notebook_mode(connected=True)"
   ]
  },
  {
   "cell_type": "markdown",
   "metadata": {},
   "source": [
    "# References\n",
    "- [What is Anomaly Detection? Examining the Essentials](https://www.anodot.com/blog/what-is-anomaly-detection/)"
   ]
  },
  {
   "cell_type": "markdown",
   "metadata": {},
   "source": [
    "# Introduction\n",
    "---\n",
    "今回の宿題では，オートエンコーダを用いた異常検知を行なってもらいます．\n",
    "異常検知とは，その言葉の通り異常を検知するシステムのことである．\n",
    "この\"異常\"とは様々なことが考えられる．\n",
    "例えば，アプリの性能低下などから，もっとシンプルに「いつも真顔の人の笑顔」とかも考えられる．\n",
    "つまり，異常とは正常（と定義した事柄）からの逸脱を表し，この定義が重要になる．\n",
    "これ以上に詳しく知りたい方は，上のリンクをクリックしてください．\n",
    "\n",
    "今回皆さんに編集してもらい部分は，正常データをどのクラスを指定する次のセルのみです．\n",
    "ここで指定したクラス以外のクラスは異常データとして扱います．\n",
    "その後はノートブックを実行していき，時々にある演習を解答していきましょう．\n",
    "問題数は全部合わせて，5つあります．\n",
    "\n",
    "---\n",
    "\n",
    "In this homework, you will perform anomaly detection using autoencoders. Anomaly detection, as the term implies, is a system for detecting abnormalities. This \"abnormality\" can be various things. For example, an anomaly could be a decrease in the performance of an application, or it could be something as simple as \"a smile on the face of a person who always has a straight face\". In other words, an abnormality is a deviation from the normal (or what we define as normal). If you want to know more, please click on the link above.\n",
    "\n",
    "The only part you need to edit is the next cell, which specifies the class (number) of normal data. Any class other than that will be treated as abnormal data. After that, run the notebook and answer the exercises. There are 5 problems in total.\n",
    "\n",
    "---"
   ]
  },
  {
   "cell_type": "code",
   "execution_count": 5,
   "metadata": {},
   "outputs": [],
   "source": [
    "# ----- adjustable parameters ----- #\n",
    "source_number = 4 # put one of the numbers :[0, 1, 2, 3, 4, 5, 6, 7, 8, 9]\n",
    "# --------------------------------- #"
   ]
  },
  {
   "cell_type": "markdown",
   "metadata": {},
   "source": [
    "### Preparation\n",
    "---\n",
    "- Models\n",
    "    - *bfeatures*: 隠れ層(hidden layer)の特徴量数を表すパラメタ，大きいほどモデルの複雑度が増す．\n",
    "    - *n_layers*: エンコーダとデコーダの層の深さを決定するパラメタ\n",
    "    - *z_dim*: 潜在ベクトル(latent code)の次元数を決定するパラメタ\n",
    "    \n",
    "    \n",
    "- Training\n",
    "    - optimizer: Adam optimizer, デフォルトのパラメタ\n",
    "    - scheduler: 学習率が指数関数的に減少するスケジューラ\n",
    "    \n",
    "---\n",
    "- Models\n",
    "    - *bfeatures*: A parameter that represents the number of features in the hidden layer.\n",
    "    - *n_layers*: A parameter that determines the depth of the encoder and decoder layers.\n",
    "    - *z_dim*: A parameter that determines the dimension of latent codes.\n",
    "- Training\n",
    "    - optimizer: Adam optimizer with default parameters\n",
    "    - scheduler: learning rate scheduler which lowers the lr exponentially\n",
    "---"
   ]
  },
  {
   "cell_type": "code",
   "execution_count": 9,
   "metadata": {},
   "outputs": [],
   "source": [
    "# Models\n",
    "bfeatures = 16\n",
    "n_layers = 3\n",
    "z_dim = 3\n",
    "device = \"cpu\"\n",
    "net = VAE(z_dim=z_dim, nch_input=1, nch=bfeatures, device=device, image_shape=(16, 16), n_layers=n_layers).to(device)\n",
    "net.apply(weights_init)\n",
    "\n",
    "# Training\n",
    "lr = 0.001 # learning rate\n",
    "epoch_num = 501 # the number of epochs\n",
    "save_parameter = True # do you wanna save parameters ?\n",
    "test_interval = 3 # the interval among validation check\n",
    "optimizer = optim.Adam(net.parameters(), lr=lr)\n",
    "scheduler = optim.lr_scheduler.ExponentialLR(optimizer, gamma=0.99)\n",
    "\n",
    "# Dataset\n",
    "root = \"../dataset/MNIST/\"\n",
    "train_batch = 32\n",
    "val_batch = 32\n",
    "each_datanum = 1000\n",
    "numbers = tuple(list([source_number])) \n",
    "dataset = Dataset_MNIST(root, numbers, \"train\", transform[\"train\"], each_datanum=each_datanum)\n",
    "dataloader = torch.utils.data.DataLoader(dataset=dataset, batch_size=train_batch, shuffle=True)\n",
    "valset = Dataset_MNIST(root, numbers, \"val\", transform[\"test\"], each_datanum=each_datanum)\n",
    "valloader = torch.utils.data.DataLoader(dataset=valset, batch_size=val_batch, shuffle=False)\n",
    "fixed_image = dataset[100][0].unsqueeze(0)"
   ]
  },
  {
   "cell_type": "markdown",
   "metadata": {},
   "source": [
    "## Training\n",
    "---\n",
    "では、異常検知として使うモデルを訓練してみましょう。\n",
    "このセルにはエポックごとのロスと，訓練サンプルと検証サンプルの再構成結果を出すようにしてます。\n",
    "そして、検証用データにおいての一番いいエポックを記憶するようにしているので、後に呼び出してみましょう。\n",
    "\n",
    "---\n",
    "Now, let's train your model for anomaly detection.\n",
    "In this cell, we have the losses per epoch and the reconstruction results of the training and validation samples.\n",
    "It also remembers the best epoch in the validation data, so let's recall it later.\n",
    "\n",
    "\n",
    "---"
   ]
  },
  {
   "cell_type": "code",
   "execution_count": 10,
   "metadata": {},
   "outputs": [
    {
     "name": "stdout",
     "output_type": "stream",
     "text": [
      "500\n",
      "test loss in 498 : 31.830841064453125\n",
      "best loss is   : 31.35713768005371 in epoch426\n"
     ]
    },
    {
     "data": {
      "image/png": "[encoded data removed]",
      "text/plain": [
       "<Figure size 1080x1080 with 7 Axes>"
      ]
     },
     "metadata": {
      "needs_background": "light"
     },
     "output_type": "display_data"
    }
   ],
   "source": [
    "train = True\n",
    "\n",
    "if train:\n",
    "    losses_epoch = []\n",
    "    losses_epoch_test = []\n",
    "    best_epoch = 0\n",
    "    best_loss = np.inf\n",
    "    for epoch in range(epoch_num):\n",
    "        losses = []\n",
    "        for itr, data in enumerate(dataloader):\n",
    "            net.train()\n",
    "            x = data[0].to(device)\n",
    "            label = data[1].to(device)\n",
    "            optimizer.zero_grad()\n",
    "            _, _, loss = net(x, True)\n",
    "            loss.backward()\n",
    "            optimizer.step()\n",
    "\n",
    "            loss = loss.to(\"cpu\").detach().numpy()\n",
    "            label = label.to(\"cpu\").detach().numpy()\n",
    "            losses.append(loss)\n",
    "        losses_epoch.append(np.mean(np.array(losses)))\n",
    "        scheduler.step()\n",
    "        if epoch%test_interval==0:\n",
    "            labels, inputs, outputs, loss_test, latents = do_test_VAE(net, valloader, device, \"eval\")\n",
    "            losses_epoch_test.append(loss_test)\n",
    "            if best_loss > loss_test:\n",
    "                best_loss = loss_test\n",
    "                best_epoch = epoch\n",
    "\n",
    "        clear_output(wait=True)\n",
    "        print(epoch)\n",
    "        print(f\"test loss in {epoch//test_interval*test_interval} : {loss_test}\")\n",
    "        print(f\"best loss is   : {best_loss} in epoch{best_epoch}\")\n",
    "        if save_parameter:\n",
    "            if epoch%test_interval==0:\n",
    "                torch.save(net.state_dict(), \n",
    "                           f\"../instant_parameters/VAE_MNIST_ndim{z_dim}_nch{bfeatures}_lr{lr}_source{source_number}_epoch{epoch}.pth\")\n",
    "\n",
    "        width = 3\n",
    "        val_num = 2\n",
    "        height = 1 + val_num\n",
    "\n",
    "        fig = plt.figure(figsize=(5*width,5*height))\n",
    "        ax = fig.add_subplot(height,width,1)\n",
    "        ax.plot(losses_epoch, label=\"train\")\n",
    "        ax.plot(np.arange(epoch//test_interval+1)*test_interval, losses_epoch_test, label=\"val\")\n",
    "        ax.legend()\n",
    "        ax.set_title('loss')\n",
    "        net.eval()\n",
    "        fixed_output, _ = net(fixed_image)\n",
    "\n",
    "        ax = fig.add_subplot(height,width,2)\n",
    "        M = image_from_output(fixed_image)[0]\n",
    "        ax.imshow(M)\n",
    "        ax.set_title(\"train input\")\n",
    "        ax = fig.add_subplot(height,width,3)\n",
    "        M = image_from_output(fixed_output)[0]\n",
    "        ax.imshow(M)\n",
    "        ax.set_title(\"train output\")\n",
    "        for i in range(val_num):\n",
    "            ax = fig.add_subplot(height,width,3+i*3+2)\n",
    "            idx = len(valset)//val_num*i\n",
    "            M = image_from_output(torch.tensor(inputs[idx:idx+1]))[0]\n",
    "            ax.imshow(M)\n",
    "            ax.set_title(f\"val input:{i}\")\n",
    "            ax = fig.add_subplot(height,width,3+i*3+3)\n",
    "            M = image_from_output(torch.tensor(outputs[idx:idx+1]))[0]\n",
    "            ax.imshow(M)\n",
    "            ax.set_title(f\"val output:{i}\")\n",
    "        plt.show()"
   ]
  },
  {
   "cell_type": "markdown",
   "metadata": {},
   "source": [
    "## Result\n",
    "---\n",
    "では出力結果をみて、一番いいエポックを確認してみましょう。\n",
    "そのあと、`load_epoch`に代入してください。\n",
    "\n",
    "---\n",
    "Ok, next, please look at the output of the last cell and note the best epoch as illustrated below. \n",
    "And put the epoch into `load_epoch` in the cell below.\n",
    "\n",
    "<img src=\"./../data/images/result.png\" width=\"600\">\n",
    "\n",
    "\n",
    "---"
   ]
  },
  {
   "cell_type": "code",
   "execution_count": 11,
   "metadata": {},
   "outputs": [],
   "source": [
    "# ----- adjustable parameters ----- #\n",
    "load_epoch = 426\n",
    "# --------------------------------- #\n",
    "\n",
    "dir = f\"../instant_parameters/\"\n",
    "load_parameter = True\n",
    "if load_parameter:\n",
    "    model_path = f\"{dir}VAE_MNIST_ndim{z_dim}_nch{nch}_lr{lr}_source{source_number}_epoch{load_epoch}.pth\"\n",
    "    model = torch.load(model_path)\n",
    "    net.load_state_dict(model)"
   ]
  },
  {
   "cell_type": "markdown",
   "metadata": {},
   "source": [
    "## Anomaly Detection\n",
    "---\n",
    "では，異常検知をしていきましょう．\n",
    "オートエンコーダを用いてどのように異常検知するのかが最後の演習になるので，それを踏まえて進んでいきましょう．\n",
    "\n",
    "---\n",
    "Now, let's move on to anomaly detection. How to detect anomalies using autoencoders will be the last exercise, so please keep it in mind.\n",
    "\n",
    "---"
   ]
  },
  {
   "cell_type": "markdown",
   "metadata": {},
   "source": [
    "### Reconstructed Images\n",
    "---\n",
    "では，まずは再構成の結果を見てみましょう．\n",
    "最初は`source_number`で設定した正常なクラスのデータセットにおける結果を見ていきます．\n",
    "上が入力データで下が再構築したデータです．\n",
    "\n",
    "---\n",
    "\n",
    "Let's take a look at the results of the reconstruction. First, let's look at the results for a dataset of the normal class (`source_number`). The top is the input data and the bottom is the reconstructed data.\n",
    "\n",
    "---"
   ]
  },
  {
   "cell_type": "code",
   "execution_count": 13,
   "metadata": {},
   "outputs": [
    {
     "data": {
      "image/png": "[encoded data removed]",
      "text/plain": [
       "<Figure size 1800x2880 with 40 Axes>"
      ]
     },
     "metadata": {},
     "output_type": "display_data"
    }
   ],
   "source": [
    "width = 5\n",
    "display_num = 3\n",
    "height = display_num * 2\n",
    "test_batch = 512\n",
    "testset = Dataset_MNIST(root, numbers, \"val\", transform[\"test\"], each_datanum=each_datanum)\n",
    "testloader = torch.utils.data.DataLoader(dataset=testset, batch_size=test_batch, shuffle=False)\n",
    "labels, inputs, outputs, _, latents = do_test_VAE(net, testloader, device, \"eval\")\n",
    "\n",
    "fig = plt.figure(figsize=(5*width, 5*height), facecolor=\"w\")\n",
    "x = inputs\n",
    "y = outputs\n",
    "for i in range(display_num):\n",
    "    for j in range(width):\n",
    "        idx = width * j + i\n",
    "        ax = fig.add_subplot(height, width, i*2*width+j+1)\n",
    "        M = image_from_numpy(x[idx:idx+1])[0]\n",
    "        ax.imshow(M)\n",
    "        ax.tick_params(labelbottom=False, labelleft=False, labelright=False, labeltop=False)\n",
    "        ax.set_title(\"----------------\", fontsize=50)\n",
    "\n",
    "        ax = fig.add_subplot(height, width, (i*2+1)*width+j+1)\n",
    "        M = image_from_numpy(np.expand_dims(y[idx:idx+1], 0))[0]\n",
    "        ax.imshow(M)\n",
    "        ax.set_title(source_number, fontsize=30)\n",
    "        ax.tick_params(labelbottom=False, labelleft=False, labelright=False, labeltop=False)"
   ]
  },
  {
   "cell_type": "markdown",
   "metadata": {},
   "source": [
    "### Reconstructed Images\n",
    "---\n",
    "次に，`source_number`で設定した正常なクラス以外のクラス(異常なクラス)のデータにおける結果を見ていきます．\n",
    "\n",
    "---\n",
    "Next, let's look at the results for data of classes other than the normal class (abnormal class).\n",
    "\n",
    "---"
   ]
  },
  {
   "cell_type": "code",
   "execution_count": 14,
   "metadata": {},
   "outputs": [
    {
     "data": {
      "image/png": "[encoded data removed]",
      "text/plain": [
       "<Figure size 1800x2880 with 40 Axes>"
      ]
     },
     "metadata": {},
     "output_type": "display_data"
    }
   ],
   "source": [
    "height = display_num * 2\n",
    "width = 5\n",
    "\n",
    "wrongnumbers = tuple(set(range(10)) - set([source_number]))\n",
    "testset = Dataset_MNIST(root, wrongnumbers, \"val\", transform[\"test\"], each_datanum=each_datanum)\n",
    "testloader = torch.utils.data.DataLoader(dataset=testset, batch_size=test_batch, shuffle=True)\n",
    "labels, inputs, outputs, _, latents = do_test_VAE(net, testloader, device, \"eval\")\n",
    "\n",
    "fig = plt.figure(figsize=(5*width, 5*height), facecolor=\"w\")\n",
    "x = inputs\n",
    "y = outputs\n",
    "for i in range(display_num):\n",
    "    for j in range(width):\n",
    "        idx = width * j + i\n",
    "        ax = fig.add_subplot(height, width, i*2*width+j+1)\n",
    "        M = image_from_numpy(x[idx:idx+1])[0]\n",
    "        ax.imshow(M)\n",
    "        ax.tick_params(labelbottom=False, labelleft=False, labelright=False, labeltop=False)\n",
    "        ax.set_title(\"----------------\", fontsize=50)\n",
    "\n",
    "        ax = fig.add_subplot(height, width, (i*2+1)*width+j+1)\n",
    "        M = image_from_numpy(np.expand_dims(y[idx:idx+1], 0))[0]\n",
    "        ax.imshow(M)\n",
    "        ax.set_title(source_number, fontsize=30)\n",
    "        ax.tick_params(labelbottom=False, labelleft=False, labelright=False, labeltop=False)"
   ]
  },
  {
   "cell_type": "markdown",
   "metadata": {},
   "source": [
    "---\n",
    "---\n",
    "---\n",
    "問題1: 異常なクラスにおける再構成は失敗したはずです．これはエンコーダかデコーダ，どちらが原因と考えられますか．\n",
    "\n",
    "Q1: You might failed in reconstruction. Which is to blame for the failure, Encoder or Decoder?\n",
    "\n",
    "---\n",
    "\n",
    "Answer:\n",
    "\n",
    "---\n",
    "---\n",
    "\n",
    "問題2: なぜ{エンコーダ,デコーダ}のせいで再構成は失敗したか．\n",
    "\n",
    "Q2: Why it happened?\n",
    "\n",
    "---\n",
    "\n",
    "Answer:\n",
    "\n",
    "---\n",
    "---\n",
    "---"
   ]
  },
  {
   "cell_type": "markdown",
   "metadata": {},
   "source": [
    "### Check the Losses of Each Class\n",
    "---\n",
    "全てのクラス合わせたデータセットで，それぞれのデータの損失（KL divergence lossとreconstruction loss）の分布を見ていきましょう．\n",
    "\n",
    "---\n",
    "Let's take a look at the distribution of the losses (KL divergence loss and reconstruction loss) using the whole dataset.\n",
    "\n",
    "---"
   ]
  },
  {
   "cell_type": "code",
   "execution_count": 66,
   "metadata": {},
   "outputs": [
    {
     "data": {
      "application/vnd.plotly.v1+json": {
       "config": {
        "linkText": "Export to plot.ly",
        "plotlyServerURL": "https://plot.ly",
        "showLink": false
       },
       "data": [
        {
         "marker": {
          "size": 5
         },
         "mode": "markers",
         "name": "0",
         "type": "scatter",
         "visible": true,
         "x": [
          82.4788818359375,
          82.9339370727539,
          70.63290405273438,
          65.85859680175781,
          74.16255187988281,
          60.73817825317383,
          56.43409729003906,
          72.66425323486328,
          70.43376922607422,
          79.41765594482422,
          92.46895599365234,
          67.61254119873047,
          64.40238189697266,
          63.38275146484375,
          49.06716537475586,
          39.78834533691406,
          57.62933349609375,
          110.75906372070312,
          59.51124954223633,
          51.9140739440918,
          95.32077026367188,
          86.32733917236328,
          85.76316833496094,
          72.88751220703125,
          55.66069793701172,
          63.91631317138672,
          92.89159393310547,
          69.79873657226562,
          77.47116088867188,
          60.67538833618164,
          64.31890869140625,
          51.05522155761719,
          70.7990951538086,
          98.5063705444336,
          58.36327362060547,
          80.04058074951172,
          61.03330993652344,
          73.64232635498047,
          49.5196418762207,
          82.16232299804688,
          67.65813446044922,
          53.37845993041992,
          63.71656036376953,
          56.03348922729492,
          57.16017150878906,
          50.93710708618164,
          64.28523254394531,
          98.9415054321289,
          63.445716857910156,
          54.59164810180664,
          101.08335876464844,
          61.58023452758789,
          60.766624450683594,
          65.8355712890625,
          83.77139282226562,
          53.29816436767578,
          72.84280395507812,
          64.73175811767578,
          76.09540557861328,
          69.11209106445312,
          93.84304809570312,
          64.68197631835938,
          79.5703353881836,
          66.34906005859375,
          77.4877700805664,
          57.044254302978516,
          66.84043884277344,
          71.02189636230469,
          86.32794952392578,
          71.23101806640625,
          75.08672332763672,
          52.56837844848633,
          76.93138122558594,
          96.21937561035156,
          75.99666595458984,
          99.1352310180664,
          55.81863784790039,
          65.52373504638672,
          94.19683837890625,
          59.024681091308594,
          90.28608703613281,
          81.06349182128906,
          71.05416107177734,
          100.11298370361328,
          104.90422058105469,
          96.69723510742188,
          55.59486389160156,
          68.17646789550781,
          69.58576202392578,
          52.39631271362305,
          54.3216667175293,
          86.56295776367188,
          87.640869140625,
          70.6791763305664,
          92.01665496826172,
          78.66141510009766,
          101.47583770751953,
          86.71895599365234,
          100.47269439697266,
          105.66390228271484,
          48.475032806396484,
          58.46912384033203,
          67.46953582763672,
          84.29642486572266,
          93.61629486083984,
          59.58742141723633,
          66.01468658447266,
          71.04444122314453,
          76.6279296875,
          38.47761154174805,
          73.935546875,
          52.95116424560547,
          74.2123031616211,
          57.81869125366211,
          54.574459075927734,
          71.84491729736328,
          62.96806335449219,
          58.99852752685547,
          76.2536392211914,
          75.21538543701172,
          73.13638305664062,
          54.29594039916992,
          83.93807220458984,
          66.15242004394531,
          83.70844268798828,
          72.13285064697266,
          95.24014282226562,
          55.33319854736328,
          66.38020324707031,
          84.14696502685547,
          98.47126007080078,
          67.92169189453125,
          72.40843200683594,
          84.59239196777344,
          66.88838958740234,
          60.591896057128906,
          67.98128509521484,
          90.64967346191406,
          82.11241149902344,
          75.2215347290039,
          79.08369445800781,
          79.95117950439453,
          78.47261810302734,
          68.25997161865234,
          72.99828338623047,
          80.11409759521484,
          67.75212097167969,
          72.05134582519531,
          94.804443359375,
          88.66920471191406
         ]
        },
        {
         "marker": {
          "size": 5
         },
         "mode": "markers",
         "name": "1",
         "type": "scatter",
         "visible": true,
         "x": [
          34.009220123291016,
          34.22797775268555,
          32.62126159667969,
          45.382530212402344,
          34.80815887451172,
          32.13853454589844,
          35.42412567138672,
          36.472694396972656,
          31.034698486328125,
          34.194461822509766,
          35.79340744018555,
          38.58271789550781,
          38.180721282958984,
          37.54888916015625,
          35.20310974121094,
          36.47734451293945,
          34.7891731262207,
          32.87696075439453,
          30.66310691833496,
          34.71458435058594,
          33.247379302978516,
          30.08414077758789,
          39.784114837646484,
          34.091590881347656,
          45.093570709228516,
          42.15102005004883,
          45.34278106689453,
          31.824949264526367,
          32.89139175415039,
          30.182580947875977,
          33.47141647338867,
          32.96014404296875,
          37.34952926635742,
          35.23204040527344,
          44.90204620361328,
          37.62986755371094,
          33.31742858886719,
          38.538028717041016,
          32.94397735595703,
          38.03963088989258,
          37.28239440917969,
          31.90386199951172,
          36.484554290771484,
          33.327335357666016,
          35.838714599609375,
          31.857097625732422,
          34.54102325439453,
          36.374778747558594,
          42.17573928833008,
          34.09278106689453,
          40.36670684814453,
          42.20756149291992,
          32.585174560546875,
          41.460609436035156,
          39.64423370361328,
          35.849815368652344,
          40.56683349609375,
          37.719791412353516,
          37.42835998535156,
          39.622596740722656,
          29.48630142211914,
          42.132362365722656,
          40.66878128051758,
          34.124393463134766,
          38.734310150146484,
          40.016666412353516,
          39.957881927490234,
          30.11951446533203,
          35.64042663574219,
          30.8433780670166,
          35.3051872253418,
          31.958650588989258,
          40.00443649291992,
          38.51832580566406,
          30.059589385986328,
          36.91555404663086,
          37.30979919433594,
          28.919620513916016,
          41.97602462768555,
          36.93982696533203,
          32.986167907714844,
          36.796112060546875,
          36.621849060058594,
          29.6825008392334,
          35.06611633300781,
          40.51361846923828,
          33.20953369140625,
          32.86939239501953,
          49.02403259277344,
          34.30799865722656,
          42.15870666503906,
          31.875591278076172,
          38.29148864746094,
          49.108116149902344,
          34.75316619873047,
          33.89796829223633,
          43.024169921875,
          39.811317443847656,
          39.066131591796875,
          37.217796325683594,
          35.560447692871094,
          42.07978057861328,
          37.364784240722656,
          48.71226501464844,
          46.359619140625,
          42.887718200683594,
          34.19955062866211,
          38.125545501708984,
          33.834468841552734,
          41.94680404663086,
          38.67012023925781,
          46.97627258300781,
          48.88618850708008,
          39.4864616394043,
          34.62176513671875,
          39.94485855102539,
          42.405860900878906,
          42.039459228515625,
          39.641963958740234,
          37.629783630371094,
          34.61174392700195,
          37.48999786376953,
          44.97264099121094,
          51.32585144042969,
          42.34393310546875,
          36.554752349853516,
          40.12321472167969,
          33.109615325927734,
          42.91814041137695,
          38.2842903137207,
          37.55682373046875,
          45.27184295654297,
          34.878150939941406,
          37.30349349975586,
          36.41335678100586,
          48.33852767944336,
          38.25611114501953,
          36.07953643798828,
          29.638507843017578,
          38.934234619140625,
          35.30665588378906,
          33.50103759765625,
          38.88399887084961,
          49.2658805847168,
          36.89025115966797,
          31.451013565063477,
          33.77814483642578,
          35.89842987060547,
          29.96870231628418,
          34.19837951660156
         ]
        },
        {
         "marker": {
          "size": 5
         },
         "mode": "markers",
         "name": "2",
         "type": "scatter",
         "visible": true,
         "x": [
          49.0029411315918,
          51.65709686279297,
          53.86572265625,
          44.284385681152344,
          59.381526947021484,
          38.589744567871094,
          47.713748931884766,
          37.25297164916992,
          53.9168586730957,
          50.946678161621094,
          59.52128601074219,
          38.870513916015625,
          37.957176208496094,
          71.70670318603516,
          64.27935791015625,
          55.166481018066406,
          85.58883666992188,
          59.595035552978516,
          41.39238739013672,
          56.61795425415039,
          62.605316162109375,
          53.79474639892578,
          51.66167449951172,
          60.3546028137207,
          40.37382507324219,
          64.45077514648438,
          60.96151351928711,
          54.08620071411133,
          72.40985107421875,
          59.61167907714844,
          75.885498046875,
          45.93996047973633,
          58.77777862548828,
          76.35543823242188,
          50.05071258544922,
          54.279441833496094,
          85.54212951660156,
          66.52716064453125,
          73.14759826660156,
          60.149017333984375,
          64.3848648071289,
          68.26993560791016,
          56.165470123291016,
          64.7667236328125,
          59.50841522216797,
          43.69454574584961,
          76.19458770751953,
          50.095237731933594,
          62.62497329711914,
          62.047996520996094,
          73.63228607177734,
          52.5069465637207,
          58.66802215576172,
          66.13617706298828,
          55.85039138793945,
          36.07538986206055,
          65.08698272705078,
          55.511592864990234,
          47.62300491333008,
          45.75109100341797,
          60.33693313598633,
          59.760005950927734,
          47.132179260253906,
          74.09187316894531,
          53.14960479736328,
          91.12035369873047,
          82.73126220703125,
          83.77050018310547,
          52.73115921020508,
          58.76318359375,
          69.05501556396484,
          54.038272857666016,
          73.09854125976562,
          86.33724212646484,
          51.821861267089844,
          63.47044372558594,
          86.65454864501953,
          73.0648193359375,
          75.77823638916016,
          64.31658935546875,
          65.69280242919922,
          70.91875457763672,
          82.24236297607422,
          54.30202102661133,
          86.16618347167969,
          53.25360870361328,
          67.87964630126953,
          52.813926696777344,
          60.883155822753906,
          98.03630065917969,
          72.08001708984375,
          61.84361267089844,
          78.90975952148438,
          62.206180572509766,
          45.991615295410156,
          78.11692810058594,
          75.45709228515625,
          67.18663787841797,
          65.3627700805664,
          66.88186645507812,
          51.61724090576172,
          69.87551879882812,
          39.402408599853516,
          43.00236129760742,
          73.48968505859375,
          60.25395584106445,
          47.30245590209961,
          69.84086608886719,
          62.189266204833984,
          97.67803192138672,
          74.7264633178711,
          65.36395263671875,
          72.26933288574219,
          47.92406463623047,
          66.23260498046875,
          35.72153854370117,
          60.00373077392578,
          52.78841018676758,
          59.030738830566406,
          76.88848876953125,
          72.8319320678711,
          37.309024810791016,
          69.0893325805664,
          63.88408279418945,
          57.3415412902832,
          98.3044204711914,
          61.51271438598633,
          41.36371612548828,
          68.55801391601562,
          58.94377899169922,
          43.88124465942383,
          44.59599685668945,
          92.92855072021484,
          88.26541900634766,
          74.33296203613281,
          91.00972747802734,
          87.79192352294922,
          55.18376922607422,
          75.89842224121094,
          81.65072631835938,
          63.217933654785156,
          92.30438995361328,
          70.17650604248047,
          95.19803619384766,
          93.78549194335938,
          67.9096450805664,
          99.8064193725586,
          76.31059265136719,
          72.75225067138672,
          49.94404983520508
         ]
        },
        {
         "marker": {
          "size": 5
         },
         "mode": "markers",
         "name": "3",
         "type": "scatter",
         "visible": true,
         "x": [
          53.75994873046875,
          55.68986129760742,
          41.40501403808594,
          38.91299057006836,
          55.316856384277344,
          50.95050048828125,
          72.0899887084961,
          77.88370513916016,
          33.19609069824219,
          70.72711944580078,
          56.295005798339844,
          83.78917694091797,
          61.1706428527832,
          68.90670013427734,
          50.97926712036133,
          41.54480743408203,
          36.33116149902344,
          67.69593048095703,
          46.8127555847168,
          74.23181915283203,
          42.38529968261719,
          42.86151885986328,
          39.02777862548828,
          60.39136505126953,
          49.236270904541016,
          42.86902618408203,
          47.337249755859375,
          56.08110809326172,
          54.931396484375,
          56.2784538269043,
          52.89605712890625,
          42.62921905517578,
          62.830955505371094,
          37.873680114746094,
          54.74177169799805,
          43.982662200927734,
          38.640045166015625,
          45.64437484741211,
          51.45766830444336,
          59.557044982910156,
          61.02659606933594,
          65.89210510253906,
          35.898704528808594,
          65.859130859375,
          44.94886779785156,
          68.78683471679688,
          49.91562271118164,
          39.80299758911133,
          64.155517578125,
          56.55137634277344,
          43.911773681640625,
          45.847599029541016,
          46.446388244628906,
          55.3419189453125,
          53.41795349121094,
          49.36273956298828,
          47.79846954345703,
          45.148956298828125,
          40.74741744995117,
          46.881710052490234,
          45.41000747680664,
          36.81732177734375,
          46.585506439208984,
          40.31299591064453,
          41.882259368896484,
          46.615577697753906,
          53.57805633544922,
          43.0289421081543,
          49.147865295410156,
          66.85557556152344,
          67.13751220703125,
          49.82249450683594,
          51.947181701660156,
          49.257835388183594,
          51.10638427734375,
          48.23354721069336,
          49.507667541503906,
          62.77254104614258,
          50.93172073364258,
          60.02181625366211,
          51.702232360839844,
          55.29869079589844,
          46.960750579833984,
          44.325599670410156,
          44.613304138183594,
          51.61504364013672,
          67.12250518798828,
          61.60916519165039,
          56.503875732421875,
          48.93802261352539,
          48.9273681640625,
          59.5693359375,
          55.666351318359375,
          65.23153686523438,
          58.34200668334961,
          37.48807907104492,
          66.17094421386719,
          69.51317596435547,
          39.215904235839844,
          49.46764373779297,
          60.58738708496094,
          63.313133239746094,
          46.8266487121582,
          73.91580200195312,
          64.73484802246094,
          56.256473541259766,
          39.12726974487305,
          57.81897735595703,
          41.05369567871094,
          48.372371673583984,
          59.31458282470703,
          38.730247497558594,
          75.76809692382812,
          59.007022857666016,
          53.2345085144043,
          53.424842834472656,
          50.902427673339844,
          63.33514404296875,
          39.253299713134766,
          42.82467269897461,
          53.539573669433594,
          36.54352569580078,
          42.118717193603516,
          57.80924606323242,
          55.452335357666016,
          51.5542106628418,
          57.43798065185547,
          48.70182418823242,
          62.47803497314453,
          58.685386657714844,
          40.33238220214844,
          48.86131286621094,
          52.96416473388672,
          55.15644073486328,
          55.684574127197266,
          43.60323715209961,
          67.11490631103516,
          60.75848388671875,
          57.314552307128906,
          50.957420349121094,
          43.02491760253906,
          53.07279586791992,
          63.45521926879883,
          53.92378234863281,
          35.33416748046875,
          69.71222686767578,
          39.03789138793945,
          67.33345794677734,
          50.81391525268555,
          55.964107513427734
         ]
        },
        {
         "marker": {
          "size": 5
         },
         "mode": "markers",
         "name": "4",
         "type": "scatter",
         "visible": true,
         "x": [
          62.21369552612305,
          37.20338439941406,
          43.06671905517578,
          39.683837890625,
          48.207122802734375,
          84.8486557006836,
          42.8975944519043,
          67.13448333740234,
          62.54261016845703,
          54.02471923828125,
          68.361572265625,
          47.746395111083984,
          60.35213088989258,
          48.376747131347656,
          52.604774475097656,
          49.389404296875,
          71.7345962524414,
          41.647666931152344,
          38.57090759277344,
          58.122276306152344,
          40.42383575439453,
          49.018863677978516,
          39.1800537109375,
          48.24903869628906,
          63.69684982299805,
          53.107852935791016,
          65.87024688720703,
          53.971435546875,
          45.90576171875,
          60.06156539916992,
          57.658103942871094,
          64.0883560180664,
          61.00100326538086,
          49.527645111083984,
          58.337623596191406,
          53.497215270996094,
          45.434791564941406,
          59.71103286743164,
          62.98728942871094,
          47.885276794433594,
          56.13058853149414,
          46.4146728515625,
          38.02355194091797,
          41.56513595581055,
          43.547725677490234,
          45.02512741088867,
          49.88621520996094,
          35.78565216064453,
          49.65715408325195,
          48.77870178222656,
          44.944583892822266,
          44.21156692504883,
          61.53300094604492,
          49.53449630737305,
          39.63780212402344,
          51.14735794067383,
          46.71678161621094,
          40.814632415771484,
          49.71240997314453,
          45.92655944824219,
          68.29544830322266,
          43.75937271118164,
          55.21638488769531,
          42.7918815612793,
          48.55858612060547,
          41.92987060546875,
          85.72386169433594,
          49.00408172607422,
          53.80542755126953,
          63.50700378417969,
          49.13477325439453,
          46.38303756713867,
          58.548614501953125,
          45.803131103515625,
          46.50171661376953,
          51.25202941894531,
          47.0765380859375,
          50.84516143798828,
          39.850791931152344,
          48.14944076538086,
          51.54396438598633,
          64.23433685302734,
          59.82679748535156,
          49.306243896484375,
          44.50520324707031,
          73.04882049560547,
          53.320465087890625,
          75.9791488647461,
          56.48997116088867,
          73.02833557128906,
          67.63804626464844,
          51.95917510986328,
          84.70347595214844,
          57.63069152832031,
          68.94309997558594,
          78.71199798583984,
          54.011966705322266,
          52.63443374633789,
          78.8169937133789,
          56.87847900390625,
          70.00064849853516,
          64.19532775878906,
          60.50258255004883,
          65.88936614990234,
          75.38018798828125,
          67.34085083007812,
          40.5686149597168,
          48.377525329589844,
          56.37990188598633,
          46.86331558227539,
          44.4370231628418,
          63.50322341918945,
          58.77450942993164,
          36.86073684692383,
          44.92775344848633,
          38.764244079589844,
          66.16295623779297,
          43.70563507080078,
          50.996849060058594,
          60.61069869995117,
          45.904075622558594,
          55.77653503417969,
          45.1121940612793,
          42.88673782348633,
          58.12174606323242,
          45.14752960205078,
          53.49931716918945,
          45.70468521118164,
          57.28993606567383,
          70.73332977294922,
          36.23653793334961,
          52.8513069152832,
          53.04958724975586,
          41.07493591308594,
          52.15791702270508,
          42.97114562988281,
          44.62870788574219,
          72.69718170166016,
          46.78556442260742,
          66.5136489868164,
          78.00215148925781,
          73.77754211425781,
          62.91826248168945,
          82.45531463623047,
          79.34699249267578,
          64.59413146972656,
          51.57554244995117,
          85.67324829101562,
          52.85585021972656,
          53.13106155395508
         ]
        },
        {
         "marker": {
          "size": 5
         },
         "mode": "markers",
         "name": "5",
         "type": "scatter",
         "visible": true,
         "x": [
          55.286434173583984,
          44.12910842895508,
          46.27717590332031,
          64.00991821289062,
          49.042057037353516,
          50.064002990722656,
          40.546260833740234,
          47.041107177734375,
          57.38853073120117,
          75.2008056640625,
          51.854190826416016,
          65.16866302490234,
          50.065216064453125,
          68.54147338867188,
          64.35752868652344,
          46.33000946044922,
          38.300594329833984,
          47.97630310058594,
          48.51814651489258,
          59.500465393066406,
          55.198917388916016,
          49.170265197753906,
          55.19386672973633,
          62.683860778808594,
          51.96996307373047,
          54.124629974365234,
          66.62740325927734,
          50.71635437011719,
          58.90422439575195,
          59.880924224853516,
          45.74945068359375,
          44.958778381347656,
          64.32015228271484,
          48.91474151611328,
          57.61677551269531,
          46.808860778808594,
          57.10683059692383,
          70.86341857910156,
          66.09514617919922,
          51.94246292114258,
          53.413795471191406,
          57.171939849853516,
          58.81498718261719,
          72.05068969726562,
          44.127906799316406,
          56.11308288574219,
          53.838836669921875,
          51.48004150390625,
          56.281002044677734,
          83.0990982055664,
          52.13066864013672,
          50.34235382080078,
          57.48320770263672,
          59.920257568359375,
          60.164512634277344,
          77.23956298828125,
          49.97669219970703,
          47.48741149902344,
          55.26222610473633,
          52.532310485839844,
          46.833251953125,
          56.862510681152344,
          53.538028717041016,
          57.52336883544922,
          67.56402587890625,
          44.32520294189453,
          56.59928894042969,
          53.08120346069336,
          46.740028381347656,
          46.903011322021484,
          50.213478088378906,
          44.60396957397461,
          48.44985580444336,
          46.02266311645508,
          54.96570587158203,
          57.18864059448242,
          47.11087417602539,
          53.595130920410156,
          65.63390350341797,
          41.925270080566406,
          44.76290512084961,
          48.75421142578125,
          51.657100677490234,
          53.25269317626953,
          54.25422668457031,
          64.87041473388672,
          62.6667594909668,
          54.45186233520508,
          48.74081802368164,
          56.53216552734375,
          48.22126007080078,
          56.395484924316406,
          61.60608673095703,
          46.77989959716797,
          50.30360794067383,
          56.82515335083008,
          42.04176712036133,
          48.77631759643555,
          54.378761291503906,
          63.92063903808594,
          51.29291915893555,
          50.210750579833984,
          58.147987365722656,
          41.92424392700195,
          45.74029541015625,
          63.95844650268555,
          50.03438949584961,
          74.77898406982422,
          53.25862503051758,
          46.062400817871094,
          55.02727508544922,
          54.23691177368164,
          60.37551498413086,
          50.164737701416016,
          45.89816665649414,
          52.342079162597656,
          52.558624267578125,
          52.69465637207031,
          62.31290817260742,
          74.44949340820312,
          46.391727447509766,
          41.123958587646484,
          36.48614501953125,
          52.787227630615234,
          41.38058853149414,
          56.29975128173828,
          61.402191162109375,
          57.26414108276367,
          48.46367263793945,
          45.136444091796875,
          41.67001724243164,
          59.66317367553711,
          48.78510665893555,
          51.07002258300781,
          54.86377716064453,
          42.516319274902344,
          45.43793487548828,
          63.70556640625,
          65.3232192993164,
          45.47409439086914,
          56.576847076416016,
          63.171051025390625,
          63.54841232299805,
          59.43259048461914,
          49.64576721191406,
          52.79649353027344,
          46.37512969970703,
          57.73881530761719,
          52.176475524902344,
          69.0831069946289
         ]
        },
        {
         "marker": {
          "size": 5
         },
         "mode": "markers",
         "name": "6",
         "type": "scatter",
         "visible": true,
         "x": [
          51.78696060180664,
          61.94775390625,
          72.8698959350586,
          44.4825553894043,
          57.4873161315918,
          70.63471984863281,
          62.22788619995117,
          41.137451171875,
          68.10708618164062,
          93.17411804199219,
          36.801387786865234,
          48.05628204345703,
          47.08798599243164,
          50.71458435058594,
          62.108238220214844,
          54.49165725708008,
          83.74581146240234,
          72.64749145507812,
          80.0246810913086,
          44.54086685180664,
          43.18692398071289,
          45.613243103027344,
          47.78105926513672,
          72.52658081054688,
          71.0578842163086,
          75.84268188476562,
          64.07344055175781,
          69.55339050292969,
          49.4796142578125,
          74.6124267578125,
          53.82344436645508,
          59.55991744995117,
          40.70923614501953,
          41.90257263183594,
          61.85868835449219,
          56.238128662109375,
          47.474117279052734,
          34.56222152709961,
          39.861507415771484,
          40.919097900390625,
          61.048919677734375,
          39.62989044189453,
          44.725196838378906,
          39.276405334472656,
          63.40776824951172,
          53.00324630737305,
          37.2024040222168,
          47.30207824707031,
          41.87264633178711,
          72.81379699707031,
          62.078575134277344,
          62.636871337890625,
          58.94598388671875,
          71.36969757080078,
          70.44841766357422,
          57.7778434753418,
          57.72929763793945,
          72.86134338378906,
          60.138885498046875,
          66.90918731689453,
          77.43135833740234,
          60.65159225463867,
          62.312599182128906,
          63.8854866027832,
          61.04048538208008,
          60.16328811645508,
          84.41001892089844,
          86.85492706298828,
          76.36202239990234,
          91.82000732421875,
          72.07551574707031,
          66.39838409423828,
          68.73384857177734,
          72.52336883544922,
          69.58563995361328,
          53.61332702636719,
          64.21772766113281,
          76.50948333740234,
          61.616024017333984,
          50.24531555175781,
          47.314334869384766,
          60.57408905029297,
          50.31690216064453,
          98.96439361572266,
          91.58773040771484,
          69.24903106689453,
          58.393028259277344,
          110.35905456542969,
          85.79415130615234,
          79.95738983154297,
          88.32186126708984,
          73.56228637695312,
          35.528228759765625,
          60.97761535644531,
          34.69935989379883,
          98.81941223144531,
          73.9949951171875,
          83.73030090332031,
          98.7546615600586,
          71.34893035888672,
          106.59449005126953,
          34.998382568359375,
          66.02277374267578,
          104.2642822265625,
          63.644325256347656,
          81.40850067138672,
          54.09222412109375,
          65.78636932373047,
          52.01207733154297,
          92.93020629882812,
          51.92163848876953,
          55.3720817565918,
          52.06144332885742,
          87.46956634521484,
          61.19118881225586,
          66.34062194824219,
          41.168601989746094,
          76.94535064697266,
          43.76502227783203,
          44.03335952758789,
          47.30184555053711,
          60.201045989990234,
          69.71188354492188,
          52.608394622802734,
          83.5850601196289,
          70.38531494140625,
          54.51921081542969,
          67.57794952392578,
          55.23889923095703,
          50.464752197265625,
          73.63433837890625,
          79.02494812011719,
          49.953277587890625,
          52.5294303894043,
          90.33654022216797,
          55.497535705566406,
          83.1643295288086,
          71.3495864868164,
          75.20118713378906,
          46.06337356567383,
          53.58312225341797,
          99.4146499633789,
          35.953060150146484,
          83.74607849121094,
          49.048091888427734,
          54.52130889892578,
          80.37572479248047,
          93.58617401123047,
          56.21200942993164,
          65.5244369506836
         ]
        },
        {
         "marker": {
          "size": 5
         },
         "mode": "markers",
         "name": "7",
         "type": "scatter",
         "visible": true,
         "x": [
          64.42970275878906,
          53.07718276977539,
          89.12648010253906,
          58.74939727783203,
          68.88052368164062,
          65.11358642578125,
          72.64363098144531,
          49.66761016845703,
          62.611793518066406,
          66.32849884033203,
          61.693450927734375,
          55.660457611083984,
          57.1472282409668,
          72.91871643066406,
          47.210872650146484,
          64.00536346435547,
          89.45976257324219,
          50.00592041015625,
          41.08572769165039,
          64.02719116210938,
          47.01653289794922,
          56.93305206298828,
          42.12310791015625,
          50.013511657714844,
          47.480167388916016,
          71.93446350097656,
          67.65039825439453,
          61.0468864440918,
          63.682945251464844,
          48.46601867675781,
          62.042198181152344,
          48.32044982910156,
          83.45579528808594,
          57.925350189208984,
          41.73113250732422,
          46.26093292236328,
          51.193321228027344,
          83.52642822265625,
          51.0143928527832,
          92.16509246826172,
          44.281005859375,
          103.25119018554688,
          67.56900024414062,
          72.20406341552734,
          60.92329788208008,
          69.88352966308594,
          49.906585693359375,
          68.64189147949219,
          59.25178909301758,
          53.16748046875,
          58.726749420166016,
          46.82316589355469,
          88.66749572753906,
          78.21173095703125,
          78.96939086914062,
          68.63253784179688,
          56.935829162597656,
          63.98935317993164,
          96.10508728027344,
          52.215087890625,
          56.887210845947266,
          92.15142822265625,
          63.075050354003906,
          47.11261749267578,
          107.17549133300781,
          48.15739059448242,
          59.91960906982422,
          46.112548828125,
          47.5408935546875,
          40.901546478271484,
          38.403045654296875,
          49.61907196044922,
          46.495567321777344,
          43.79119873046875,
          82.67793273925781,
          50.88771438598633,
          42.69755554199219,
          36.87941360473633,
          48.04046630859375,
          37.61408996582031,
          59.58614730834961,
          56.22940444946289,
          68.16637420654297,
          46.97505187988281,
          49.65597915649414,
          50.2672119140625,
          80.11180114746094,
          57.933135986328125,
          57.967926025390625,
          73.8019790649414,
          75.67298126220703,
          58.121437072753906,
          43.782081604003906,
          56.907588958740234,
          51.354671478271484,
          57.84273910522461,
          76.13440704345703,
          50.41334915161133,
          53.36697006225586,
          99.88463592529297,
          65.08891296386719,
          56.8865966796875,
          51.81426239013672,
          49.6938362121582,
          58.093101501464844,
          55.90547180175781,
          68.1329116821289,
          62.119380950927734,
          50.39986801147461,
          42.90925979614258,
          67.64136505126953,
          64.80872344970703,
          66.52285766601562,
          52.3512077331543,
          63.81565856933594,
          67.30862426757812,
          60.47157669067383,
          55.71802520751953,
          93.09599304199219,
          61.04314041137695,
          45.02602005004883,
          45.01608657836914,
          62.59228515625,
          46.376861572265625,
          44.129852294921875,
          44.373939514160156,
          67.32232666015625,
          54.755489349365234,
          53.11738204956055,
          73.83837890625,
          48.97677230834961,
          36.39400863647461,
          46.7502555847168,
          46.223045349121094,
          48.04148483276367,
          40.42853927612305,
          55.98953628540039,
          94.53130340576172,
          44.61273193359375,
          66.3899917602539,
          51.74502182006836,
          98.50328063964844,
          66.43966674804688,
          53.74552917480469,
          65.40007019042969,
          95.63710021972656,
          66.57716369628906,
          59.65083312988281,
          69.07450866699219,
          58.96477508544922
         ]
        },
        {
         "marker": {
          "size": 5
         },
         "mode": "markers",
         "name": "8",
         "type": "scatter",
         "visible": true,
         "x": [
          33.59080123901367,
          47.42482376098633,
          34.248294830322266,
          24.949548721313477,
          24.155481338500977,
          23.906352996826172,
          38.16941452026367,
          41.839149475097656,
          55.618587493896484,
          31.176040649414062,
          28.228919982910156,
          34.586578369140625,
          38.30837631225586,
          25.76748275756836,
          24.964832305908203,
          34.879669189453125,
          38.763755798339844,
          29.678382873535156,
          23.53631019592285,
          27.903343200683594,
          40.460609436035156,
          40.20418930053711,
          42.15671157836914,
          34.58200454711914,
          28.6651611328125,
          48.38996887207031,
          27.451683044433594,
          69.69449615478516,
          23.00497055053711,
          26.972095489501953,
          59.09297561645508,
          40.29578399658203,
          31.779069900512695,
          23.459083557128906,
          46.39289474487305,
          33.59811782836914,
          24.872920989990234,
          30.389020919799805,
          31.758670806884766,
          72.03557586669922,
          39.79573440551758,
          38.787174224853516,
          27.31736183166504,
          56.37367248535156,
          29.20012092590332,
          47.651947021484375,
          21.189044952392578,
          42.46066665649414,
          42.19526672363281,
          30.2623291015625,
          30.281381607055664,
          58.66573715209961,
          60.23567581176758,
          37.233795166015625,
          60.31394577026367,
          74.974853515625,
          54.88475799560547,
          54.543636322021484,
          59.757808685302734,
          36.95381164550781,
          25.64000701904297,
          54.93809127807617,
          24.251638412475586,
          29.994651794433594,
          34.09266662597656,
          25.627927780151367,
          34.31977844238281,
          28.0549373626709,
          31.71563720703125,
          31.32404136657715,
          31.293041229248047,
          41.82792663574219,
          35.29540252685547,
          41.12696838378906,
          45.92827224731445,
          33.1886100769043,
          23.921634674072266,
          36.400360107421875,
          33.850528717041016,
          40.7324104309082,
          35.62345886230469,
          42.94210433959961,
          36.67709732055664,
          31.138151168823242,
          40.28915786743164,
          38.81423568725586,
          38.782344818115234,
          21.165843963623047,
          33.49237823486328,
          29.771472930908203,
          32.338783264160156,
          25.602947235107422,
          32.93051528930664,
          29.58168601989746,
          25.798856735229492,
          21.875457763671875,
          34.31130599975586,
          32.114559173583984,
          43.82958984375,
          27.86025619506836,
          36.89700698852539,
          31.860559463500977,
          31.476659774780273,
          51.875450134277344,
          49.6901741027832,
          37.84078598022461,
          44.358726501464844,
          31.709819793701172,
          58.88163757324219,
          25.81045913696289,
          26.296344757080078,
          52.145164489746094,
          78.86709594726562,
          39.2414665222168,
          57.22878646850586,
          37.196144104003906,
          37.12786865234375,
          50.9174690246582,
          55.33179473876953,
          23.611541748046875,
          43.21625900268555,
          35.211761474609375,
          45.92853927612305,
          51.747982025146484,
          20.659090042114258,
          34.761817932128906,
          27.381528854370117,
          46.914207458496094,
          29.936397552490234,
          40.946712493896484,
          52.065711975097656,
          36.88609313964844,
          44.396217346191406,
          34.96178436279297,
          36.984474182128906,
          34.39394760131836,
          46.519954681396484,
          42.281761169433594,
          44.90692901611328,
          31.426528930664062,
          46.548465728759766,
          39.10274124145508,
          36.43918991088867,
          32.30458068847656,
          33.12015914916992,
          27.83149528503418,
          43.24626922607422,
          35.73146057128906,
          22.297361373901367,
          35.893821716308594
         ]
        },
        {
         "marker": {
          "size": 5
         },
         "mode": "markers",
         "name": "9",
         "type": "scatter",
         "visible": true,
         "x": [
          45.99799728393555,
          40.93421936035156,
          40.97366714477539,
          51.370784759521484,
          44.58919906616211,
          41.82610321044922,
          41.32914733886719,
          73.38594055175781,
          55.719974517822266,
          45.23659896850586,
          46.84614181518555,
          43.18443298339844,
          37.321109771728516,
          39.632476806640625,
          37.909149169921875,
          49.913490295410156,
          51.30528259277344,
          54.57529830932617,
          36.587486267089844,
          38.26313781738281,
          54.35654830932617,
          43.792972564697266,
          33.81095886230469,
          31.53989028930664,
          37.01595687866211,
          44.990318298339844,
          34.54708480834961,
          43.31276321411133,
          48.22587203979492,
          46.99058532714844,
          43.66831970214844,
          33.43840026855469,
          69.2713394165039,
          50.81218338012695,
          38.48766326904297,
          38.80923843383789,
          35.141883850097656,
          39.25871658325195,
          42.65400695800781,
          49.968231201171875,
          65.10526275634766,
          40.33367156982422,
          50.22793960571289,
          56.92546463012695,
          40.39286422729492,
          53.86310577392578,
          38.246002197265625,
          44.219566345214844,
          41.622650146484375,
          46.930301666259766,
          57.38541793823242,
          53.781532287597656,
          44.71306228637695,
          69.1383285522461,
          43.81414794921875,
          48.232242584228516,
          48.61053466796875,
          54.92860412597656,
          44.02693176269531,
          61.71256637573242,
          34.33488464355469,
          47.270572662353516,
          50.71890640258789,
          40.36955642700195,
          42.261940002441406,
          48.46213912963867,
          42.0633544921875,
          43.16667556762695,
          45.91987228393555,
          40.14996337890625,
          46.044593811035156,
          40.01850128173828,
          40.39931106567383,
          75.11192321777344,
          36.236331939697266,
          48.5446891784668,
          51.384971618652344,
          42.28861999511719,
          47.99993133544922,
          52.13801574707031,
          52.553062438964844,
          58.57587814331055,
          53.81639099121094,
          55.43606185913086,
          59.158084869384766,
          62.44773864746094,
          35.75867462158203,
          33.50632095336914,
          51.94684600830078,
          64.21883392333984,
          53.961883544921875,
          70.37749481201172,
          60.05936050415039,
          53.45553970336914,
          82.20584869384766,
          86.5506591796875,
          49.85247039794922,
          56.30831527709961,
          62.80229568481445,
          44.581626892089844,
          70.23982238769531,
          66.6236572265625,
          47.272369384765625,
          49.65070343017578,
          87.48007202148438,
          47.421051025390625,
          38.53166961669922,
          40.501853942871094,
          46.27058792114258,
          40.579986572265625,
          38.972076416015625,
          61.46980667114258,
          46.535770416259766,
          42.69156265258789,
          50.590091705322266,
          53.9091682434082,
          44.443668365478516,
          80.6063461303711,
          36.993682861328125,
          40.24085998535156,
          56.89070510864258,
          36.755088806152344,
          52.40185546875,
          62.76323318481445,
          42.12456130981445,
          48.214900970458984,
          37.04204559326172,
          59.33650207519531,
          50.7421989440918,
          55.55284118652344,
          39.40971374511719,
          42.85145568847656,
          59.22572326660156,
          39.55982971191406,
          45.64160919189453,
          47.2686767578125,
          45.301753997802734,
          52.37813949584961,
          65.65741729736328,
          50.92154312133789,
          63.86555099487305,
          48.50768280029297,
          49.304203033447266,
          65.19607543945312,
          43.21015930175781,
          58.67082214355469,
          60.86530303955078,
          51.65333938598633,
          45.781009674072266,
          48.44634246826172
         ]
        }
       ],
       "layout": {
        "height": 500,
        "template": {
         "data": {
          "bar": [
           {
            "error_x": {
             "color": "#2a3f5f"
            },
            "error_y": {
             "color": "#2a3f5f"
            },
            "marker": {
             "line": {
              "color": "#E5ECF6",
              "width": 0.5
             }
            },
            "type": "bar"
           }
          ],
          "barpolar": [
           {
            "marker": {
             "line": {
              "color": "#E5ECF6",
              "width": 0.5
             }
            },
            "type": "barpolar"
           }
          ],
          "carpet": [
           {
            "aaxis": {
             "endlinecolor": "#2a3f5f",
             "gridcolor": "white",
             "linecolor": "white",
             "minorgridcolor": "white",
             "startlinecolor": "#2a3f5f"
            },
            "baxis": {
             "endlinecolor": "#2a3f5f",
             "gridcolor": "white",
             "linecolor": "white",
             "minorgridcolor": "white",
             "startlinecolor": "#2a3f5f"
            },
            "type": "carpet"
           }
          ],
          "choropleth": [
           {
            "colorbar": {
             "outlinewidth": 0,
             "ticks": ""
            },
            "type": "choropleth"
           }
          ],
          "contour": [
           {
            "colorbar": {
             "outlinewidth": 0,
             "ticks": ""
            },
            "colorscale": [
             [
              0,
              "#0d0887"
             ],
             [
              0.1111111111111111,
              "#46039f"
             ],
             [
              0.2222222222222222,
              "#7201a8"
             ],
             [
              0.3333333333333333,
              "#9c179e"
             ],
             [
              0.4444444444444444,
              "#bd3786"
             ],
             [
              0.5555555555555556,
              "#d8576b"
             ],
             [
              0.6666666666666666,
              "#ed7953"
             ],
             [
              0.7777777777777778,
              "#fb9f3a"
             ],
             [
              0.8888888888888888,
              "#fdca26"
             ],
             [
              1,
              "#f0f921"
             ]
            ],
            "type": "contour"
           }
          ],
          "contourcarpet": [
           {
            "colorbar": {
             "outlinewidth": 0,
             "ticks": ""
            },
            "type": "contourcarpet"
           }
          ],
          "heatmap": [
           {
            "colorbar": {
             "outlinewidth": 0,
             "ticks": ""
            },
            "colorscale": [
             [
              0,
              "#0d0887"
             ],
             [
              0.1111111111111111,
              "#46039f"
             ],
             [
              0.2222222222222222,
              "#7201a8"
             ],
             [
              0.3333333333333333,
              "#9c179e"
             ],
             [
              0.4444444444444444,
              "#bd3786"
             ],
             [
              0.5555555555555556,
              "#d8576b"
             ],
             [
              0.6666666666666666,
              "#ed7953"
             ],
             [
              0.7777777777777778,
              "#fb9f3a"
             ],
             [
              0.8888888888888888,
              "#fdca26"
             ],
             [
              1,
              "#f0f921"
             ]
            ],
            "type": "heatmap"
           }
          ],
          "heatmapgl": [
           {
            "colorbar": {
             "outlinewidth": 0,
             "ticks": ""
            },
            "colorscale": [
             [
              0,
              "#0d0887"
             ],
             [
              0.1111111111111111,
              "#46039f"
             ],
             [
              0.2222222222222222,
              "#7201a8"
             ],
             [
              0.3333333333333333,
              "#9c179e"
             ],
             [
              0.4444444444444444,
              "#bd3786"
             ],
             [
              0.5555555555555556,
              "#d8576b"
             ],
             [
              0.6666666666666666,
              "#ed7953"
             ],
             [
              0.7777777777777778,
              "#fb9f3a"
             ],
             [
              0.8888888888888888,
              "#fdca26"
             ],
             [
              1,
              "#f0f921"
             ]
            ],
            "type": "heatmapgl"
           }
          ],
          "histogram": [
           {
            "marker": {
             "colorbar": {
              "outlinewidth": 0,
              "ticks": ""
             }
            },
            "type": "histogram"
           }
          ],
          "histogram2d": [
           {
            "colorbar": {
             "outlinewidth": 0,
             "ticks": ""
            },
            "colorscale": [
             [
              0,
              "#0d0887"
             ],
             [
              0.1111111111111111,
              "#46039f"
             ],
             [
              0.2222222222222222,
              "#7201a8"
             ],
             [
              0.3333333333333333,
              "#9c179e"
             ],
             [
              0.4444444444444444,
              "#bd3786"
             ],
             [
              0.5555555555555556,
              "#d8576b"
             ],
             [
              0.6666666666666666,
              "#ed7953"
             ],
             [
              0.7777777777777778,
              "#fb9f3a"
             ],
             [
              0.8888888888888888,
              "#fdca26"
             ],
             [
              1,
              "#f0f921"
             ]
            ],
            "type": "histogram2d"
           }
          ],
          "histogram2dcontour": [
           {
            "colorbar": {
             "outlinewidth": 0,
             "ticks": ""
            },
            "colorscale": [
             [
              0,
              "#0d0887"
             ],
             [
              0.1111111111111111,
              "#46039f"
             ],
             [
              0.2222222222222222,
              "#7201a8"
             ],
             [
              0.3333333333333333,
              "#9c179e"
             ],
             [
              0.4444444444444444,
              "#bd3786"
             ],
             [
              0.5555555555555556,
              "#d8576b"
             ],
             [
              0.6666666666666666,
              "#ed7953"
             ],
             [
              0.7777777777777778,
              "#fb9f3a"
             ],
             [
              0.8888888888888888,
              "#fdca26"
             ],
             [
              1,
              "#f0f921"
             ]
            ],
            "type": "histogram2dcontour"
           }
          ],
          "mesh3d": [
           {
            "colorbar": {
             "outlinewidth": 0,
             "ticks": ""
            },
            "type": "mesh3d"
           }
          ],
          "parcoords": [
           {
            "line": {
             "colorbar": {
              "outlinewidth": 0,
              "ticks": ""
             }
            },
            "type": "parcoords"
           }
          ],
          "pie": [
           {
            "automargin": true,
            "type": "pie"
           }
          ],
          "scatter": [
           {
            "marker": {
             "colorbar": {
              "outlinewidth": 0,
              "ticks": ""
             }
            },
            "type": "scatter"
           }
          ],
          "scatter3d": [
           {
            "line": {
             "colorbar": {
              "outlinewidth": 0,
              "ticks": ""
             }
            },
            "marker": {
             "colorbar": {
              "outlinewidth": 0,
              "ticks": ""
             }
            },
            "type": "scatter3d"
           }
          ],
          "scattercarpet": [
           {
            "marker": {
             "colorbar": {
              "outlinewidth": 0,
              "ticks": ""
             }
            },
            "type": "scattercarpet"
           }
          ],
          "scattergeo": [
           {
            "marker": {
             "colorbar": {
              "outlinewidth": 0,
              "ticks": ""
             }
            },
            "type": "scattergeo"
           }
          ],
          "scattergl": [
           {
            "marker": {
             "colorbar": {
              "outlinewidth": 0,
              "ticks": ""
             }
            },
            "type": "scattergl"
           }
          ],
          "scattermapbox": [
           {
            "marker": {
             "colorbar": {
              "outlinewidth": 0,
              "ticks": ""
             }
            },
            "type": "scattermapbox"
           }
          ],
          "scatterpolar": [
           {
            "marker": {
             "colorbar": {
              "outlinewidth": 0,
              "ticks": ""
             }
            },
            "type": "scatterpolar"
           }
          ],
          "scatterpolargl": [
           {
            "marker": {
             "colorbar": {
              "outlinewidth": 0,
              "ticks": ""
             }
            },
            "type": "scatterpolargl"
           }
          ],
          "scatterternary": [
           {
            "marker": {
             "colorbar": {
              "outlinewidth": 0,
              "ticks": ""
             }
            },
            "type": "scatterternary"
           }
          ],
          "surface": [
           {
            "colorbar": {
             "outlinewidth": 0,
             "ticks": ""
            },
            "colorscale": [
             [
              0,
              "#0d0887"
             ],
             [
              0.1111111111111111,
              "#46039f"
             ],
             [
              0.2222222222222222,
              "#7201a8"
             ],
             [
              0.3333333333333333,
              "#9c179e"
             ],
             [
              0.4444444444444444,
              "#bd3786"
             ],
             [
              0.5555555555555556,
              "#d8576b"
             ],
             [
              0.6666666666666666,
              "#ed7953"
             ],
             [
              0.7777777777777778,
              "#fb9f3a"
             ],
             [
              0.8888888888888888,
              "#fdca26"
             ],
             [
              1,
              "#f0f921"
             ]
            ],
            "type": "surface"
           }
          ],
          "table": [
           {
            "cells": {
             "fill": {
              "color": "#EBF0F8"
             },
             "line": {
              "color": "white"
             }
            },
            "header": {
             "fill": {
              "color": "#C8D4E3"
             },
             "line": {
              "color": "white"
             }
            },
            "type": "table"
           }
          ]
         },
         "layout": {
          "annotationdefaults": {
           "arrowcolor": "#2a3f5f",
           "arrowhead": 0,
           "arrowwidth": 1
          },
          "autotypenumbers": "strict",
          "coloraxis": {
           "colorbar": {
            "outlinewidth": 0,
            "ticks": ""
           }
          },
          "colorscale": {
           "diverging": [
            [
             0,
             "#8e0152"
            ],
            [
             0.1,
             "#c51b7d"
            ],
            [
             0.2,
             "#de77ae"
            ],
            [
             0.3,
             "#f1b6da"
            ],
            [
             0.4,
             "#fde0ef"
            ],
            [
             0.5,
             "#f7f7f7"
            ],
            [
             0.6,
             "#e6f5d0"
            ],
            [
             0.7,
             "#b8e186"
            ],
            [
             0.8,
             "#7fbc41"
            ],
            [
             0.9,
             "#4d9221"
            ],
            [
             1,
             "#276419"
            ]
           ],
           "sequential": [
            [
             0,
             "#0d0887"
            ],
            [
             0.1111111111111111,
             "#46039f"
            ],
            [
             0.2222222222222222,
             "#7201a8"
            ],
            [
             0.3333333333333333,
             "#9c179e"
            ],
            [
             0.4444444444444444,
             "#bd3786"
            ],
            [
             0.5555555555555556,
             "#d8576b"
            ],
            [
             0.6666666666666666,
             "#ed7953"
            ],
            [
             0.7777777777777778,
             "#fb9f3a"
            ],
            [
             0.8888888888888888,
             "#fdca26"
            ],
            [
             1,
             "#f0f921"
            ]
           ],
           "sequentialminus": [
            [
             0,
             "#0d0887"
            ],
            [
             0.1111111111111111,
             "#46039f"
            ],
            [
             0.2222222222222222,
             "#7201a8"
            ],
            [
             0.3333333333333333,
             "#9c179e"
            ],
            [
             0.4444444444444444,
             "#bd3786"
            ],
            [
             0.5555555555555556,
             "#d8576b"
            ],
            [
             0.6666666666666666,
             "#ed7953"
            ],
            [
             0.7777777777777778,
             "#fb9f3a"
            ],
            [
             0.8888888888888888,
             "#fdca26"
            ],
            [
             1,
             "#f0f921"
            ]
           ]
          },
          "colorway": [
           "#636efa",
           "#EF553B",
           "#00cc96",
           "#ab63fa",
           "#FFA15A",
           "#19d3f3",
           "#FF6692",
           "#B6E880",
           "#FF97FF",
           "#FECB52"
          ],
          "font": {
           "color": "#2a3f5f"
          },
          "geo": {
           "bgcolor": "white",
           "lakecolor": "white",
           "landcolor": "#E5ECF6",
           "showlakes": true,
           "showland": true,
           "subunitcolor": "white"
          },
          "hoverlabel": {
           "align": "left"
          },
          "hovermode": "closest",
          "mapbox": {
           "style": "light"
          },
          "paper_bgcolor": "white",
          "plot_bgcolor": "#E5ECF6",
          "polar": {
           "angularaxis": {
            "gridcolor": "white",
            "linecolor": "white",
            "ticks": ""
           },
           "bgcolor": "#E5ECF6",
           "radialaxis": {
            "gridcolor": "white",
            "linecolor": "white",
            "ticks": ""
           }
          },
          "scene": {
           "xaxis": {
            "backgroundcolor": "#E5ECF6",
            "gridcolor": "white",
            "gridwidth": 2,
            "linecolor": "white",
            "showbackground": true,
            "ticks": "",
            "zerolinecolor": "white"
           },
           "yaxis": {
            "backgroundcolor": "#E5ECF6",
            "gridcolor": "white",
            "gridwidth": 2,
            "linecolor": "white",
            "showbackground": true,
            "ticks": "",
            "zerolinecolor": "white"
           },
           "zaxis": {
            "backgroundcolor": "#E5ECF6",
            "gridcolor": "white",
            "gridwidth": 2,
            "linecolor": "white",
            "showbackground": true,
            "ticks": "",
            "zerolinecolor": "white"
           }
          },
          "shapedefaults": {
           "line": {
            "color": "#2a3f5f"
           }
          },
          "ternary": {
           "aaxis": {
            "gridcolor": "white",
            "linecolor": "white",
            "ticks": ""
           },
           "baxis": {
            "gridcolor": "white",
            "linecolor": "white",
            "ticks": ""
           },
           "bgcolor": "#E5ECF6",
           "caxis": {
            "gridcolor": "white",
            "linecolor": "white",
            "ticks": ""
           }
          },
          "title": {
           "x": 0.05
          },
          "xaxis": {
           "automargin": true,
           "gridcolor": "white",
           "linecolor": "white",
           "ticks": "",
           "title": {
            "standoff": 15
           },
           "zerolinecolor": "white",
           "zerolinewidth": 2
          },
          "yaxis": {
           "automargin": true,
           "gridcolor": "white",
           "linecolor": "white",
           "ticks": "",
           "title": {
            "standoff": 15
           },
           "zerolinecolor": "white",
           "zerolinewidth": 2
          }
         }
        },
        "width": 700,
        "xaxis": {
         "autorange": true,
         "range": [
          15.00143145520964,
          116.41672230760774
         ],
         "type": "linear"
        },
        "yaxis": {
         "autorange": true,
         "range": [
          -10.11401952085182,
          159.11401952085183
         ]
        }
       }
      },
      "image/png": "[encoded data removed]",
      "text/html": [
       "<div>                            <div id=\"e88251c0-0994-402d-aef0-5ad973ed45b3\" class=\"plotly-graph-div\" style=\"height:500px; width:700px;\"></div>            <script type=\"text/javascript\">                require([\"plotly\"], function(Plotly) {                    window.PLOTLYENV=window.PLOTLYENV || {};                                    if (document.getElementById(\"e88251c0-0994-402d-aef0-5ad973ed45b3\")) {                    Plotly.newPlot(                        \"e88251c0-0994-402d-aef0-5ad973ed45b3\",                        [{\"marker\": {\"size\": 5}, \"mode\": \"markers\", \"name\": \"0\", \"type\": \"scatter\", \"x\": [82.4788818359375, 82.9339370727539, 70.63290405273438, 65.85859680175781, 74.16255187988281, 60.73817825317383, 56.43409729003906, 72.66425323486328, 70.43376922607422, 79.41765594482422, 92.46895599365234, 67.61254119873047, 64.40238189697266, 63.38275146484375, 49.06716537475586, 39.78834533691406, 57.62933349609375, 110.75906372070312, 59.51124954223633, 51.9140739440918, 95.32077026367188, 86.32733917236328, 85.76316833496094, 72.88751220703125, 55.66069793701172, 63.91631317138672, 92.89159393310547, 69.79873657226562, 77.47116088867188, 60.67538833618164, 64.31890869140625, 51.05522155761719, 70.7990951538086, 98.5063705444336, 58.36327362060547, 80.04058074951172, 61.03330993652344, 73.64232635498047, 49.5196418762207, 82.16232299804688, 67.65813446044922, 53.37845993041992, 63.71656036376953, 56.03348922729492, 57.16017150878906, 50.93710708618164, 64.28523254394531, 98.9415054321289, 63.445716857910156, 54.59164810180664, 101.08335876464844, 61.58023452758789, 60.766624450683594, 65.8355712890625, 83.77139282226562, 53.29816436767578, 72.84280395507812, 64.73175811767578, 76.09540557861328, 69.11209106445312, 93.84304809570312, 64.68197631835938, 79.5703353881836, 66.34906005859375, 77.4877700805664, 57.044254302978516, 66.84043884277344, 71.02189636230469, 86.32794952392578, 71.23101806640625, 75.08672332763672, 52.56837844848633, 76.93138122558594, 96.21937561035156, 75.99666595458984, 99.1352310180664, 55.81863784790039, 65.52373504638672, 94.19683837890625, 59.024681091308594, 90.28608703613281, 81.06349182128906, 71.05416107177734, 100.11298370361328, 104.90422058105469, 96.69723510742188, 55.59486389160156, 68.17646789550781, 69.58576202392578, 52.39631271362305, 54.3216667175293, 86.56295776367188, 87.640869140625, 70.6791763305664, 92.01665496826172, 78.66141510009766, 101.47583770751953, 86.71895599365234, 100.47269439697266, 105.66390228271484, 48.475032806396484, 58.46912384033203, 67.46953582763672, 84.29642486572266, 93.61629486083984, 59.58742141723633, 66.01468658447266, 71.04444122314453, 76.6279296875, 38.47761154174805, 73.935546875, 52.95116424560547, 74.2123031616211, 57.81869125366211, 54.574459075927734, 71.84491729736328, 62.96806335449219, 58.99852752685547, 76.2536392211914, 75.21538543701172, 73.13638305664062, 54.29594039916992, 83.93807220458984, 66.15242004394531, 83.70844268798828, 72.13285064697266, 95.24014282226562, 55.33319854736328, 66.38020324707031, 84.14696502685547, 98.47126007080078, 67.92169189453125, 72.40843200683594, 84.59239196777344, 66.88838958740234, 60.591896057128906, 67.98128509521484, 90.64967346191406, 82.11241149902344, 75.2215347290039, 79.08369445800781, 79.95117950439453, 78.47261810302734, 68.25997161865234, 72.99828338623047, 80.11409759521484, 67.75212097167969, 72.05134582519531, 94.804443359375, 88.66920471191406]}, {\"marker\": {\"size\": 5}, \"mode\": \"markers\", \"name\": \"1\", \"type\": \"scatter\", \"x\": [34.009220123291016, 34.22797775268555, 32.62126159667969, 45.382530212402344, 34.80815887451172, 32.13853454589844, 35.42412567138672, 36.472694396972656, 31.034698486328125, 34.194461822509766, 35.79340744018555, 38.58271789550781, 38.180721282958984, 37.54888916015625, 35.20310974121094, 36.47734451293945, 34.7891731262207, 32.87696075439453, 30.66310691833496, 34.71458435058594, 33.247379302978516, 30.08414077758789, 39.784114837646484, 34.091590881347656, 45.093570709228516, 42.15102005004883, 45.34278106689453, 31.824949264526367, 32.89139175415039, 30.182580947875977, 33.47141647338867, 32.96014404296875, 37.34952926635742, 35.23204040527344, 44.90204620361328, 37.62986755371094, 33.31742858886719, 38.538028717041016, 32.94397735595703, 38.03963088989258, 37.28239440917969, 31.90386199951172, 36.484554290771484, 33.327335357666016, 35.838714599609375, 31.857097625732422, 34.54102325439453, 36.374778747558594, 42.17573928833008, 34.09278106689453, 40.36670684814453, 42.20756149291992, 32.585174560546875, 41.460609436035156, 39.64423370361328, 35.849815368652344, 40.56683349609375, 37.719791412353516, 37.42835998535156, 39.622596740722656, 29.48630142211914, 42.132362365722656, 40.66878128051758, 34.124393463134766, 38.734310150146484, 40.016666412353516, 39.957881927490234, 30.11951446533203, 35.64042663574219, 30.8433780670166, 35.3051872253418, 31.958650588989258, 40.00443649291992, 38.51832580566406, 30.059589385986328, 36.91555404663086, 37.30979919433594, 28.919620513916016, 41.97602462768555, 36.93982696533203, 32.986167907714844, 36.796112060546875, 36.621849060058594, 29.6825008392334, 35.06611633300781, 40.51361846923828, 33.20953369140625, 32.86939239501953, 49.02403259277344, 34.30799865722656, 42.15870666503906, 31.875591278076172, 38.29148864746094, 49.108116149902344, 34.75316619873047, 33.89796829223633, 43.024169921875, 39.811317443847656, 39.066131591796875, 37.217796325683594, 35.560447692871094, 42.07978057861328, 37.364784240722656, 48.71226501464844, 46.359619140625, 42.887718200683594, 34.19955062866211, 38.125545501708984, 33.834468841552734, 41.94680404663086, 38.67012023925781, 46.97627258300781, 48.88618850708008, 39.4864616394043, 34.62176513671875, 39.94485855102539, 42.405860900878906, 42.039459228515625, 39.641963958740234, 37.629783630371094, 34.61174392700195, 37.48999786376953, 44.97264099121094, 51.32585144042969, 42.34393310546875, 36.554752349853516, 40.12321472167969, 33.109615325927734, 42.91814041137695, 38.2842903137207, 37.55682373046875, 45.27184295654297, 34.878150939941406, 37.30349349975586, 36.41335678100586, 48.33852767944336, 38.25611114501953, 36.07953643798828, 29.638507843017578, 38.934234619140625, 35.30665588378906, 33.50103759765625, 38.88399887084961, 49.2658805847168, 36.89025115966797, 31.451013565063477, 33.77814483642578, 35.89842987060547, 29.96870231628418, 34.19837951660156]}, {\"marker\": {\"size\": 5}, \"mode\": \"markers\", \"name\": \"2\", \"type\": \"scatter\", \"x\": [49.0029411315918, 51.65709686279297, 53.86572265625, 44.284385681152344, 59.381526947021484, 38.589744567871094, 47.713748931884766, 37.25297164916992, 53.9168586730957, 50.946678161621094, 59.52128601074219, 38.870513916015625, 37.957176208496094, 71.70670318603516, 64.27935791015625, 55.166481018066406, 85.58883666992188, 59.595035552978516, 41.39238739013672, 56.61795425415039, 62.605316162109375, 53.79474639892578, 51.66167449951172, 60.3546028137207, 40.37382507324219, 64.45077514648438, 60.96151351928711, 54.08620071411133, 72.40985107421875, 59.61167907714844, 75.885498046875, 45.93996047973633, 58.77777862548828, 76.35543823242188, 50.05071258544922, 54.279441833496094, 85.54212951660156, 66.52716064453125, 73.14759826660156, 60.149017333984375, 64.3848648071289, 68.26993560791016, 56.165470123291016, 64.7667236328125, 59.50841522216797, 43.69454574584961, 76.19458770751953, 50.095237731933594, 62.62497329711914, 62.047996520996094, 73.63228607177734, 52.5069465637207, 58.66802215576172, 66.13617706298828, 55.85039138793945, 36.07538986206055, 65.08698272705078, 55.511592864990234, 47.62300491333008, 45.75109100341797, 60.33693313598633, 59.760005950927734, 47.132179260253906, 74.09187316894531, 53.14960479736328, 91.12035369873047, 82.73126220703125, 83.77050018310547, 52.73115921020508, 58.76318359375, 69.05501556396484, 54.038272857666016, 73.09854125976562, 86.33724212646484, 51.821861267089844, 63.47044372558594, 86.65454864501953, 73.0648193359375, 75.77823638916016, 64.31658935546875, 65.69280242919922, 70.91875457763672, 82.24236297607422, 54.30202102661133, 86.16618347167969, 53.25360870361328, 67.87964630126953, 52.813926696777344, 60.883155822753906, 98.03630065917969, 72.08001708984375, 61.84361267089844, 78.90975952148438, 62.206180572509766, 45.991615295410156, 78.11692810058594, 75.45709228515625, 67.18663787841797, 65.3627700805664, 66.88186645507812, 51.61724090576172, 69.87551879882812, 39.402408599853516, 43.00236129760742, 73.48968505859375, 60.25395584106445, 47.30245590209961, 69.84086608886719, 62.189266204833984, 97.67803192138672, 74.7264633178711, 65.36395263671875, 72.26933288574219, 47.92406463623047, 66.23260498046875, 35.72153854370117, 60.00373077392578, 52.78841018676758, 59.030738830566406, 76.88848876953125, 72.8319320678711, 37.309024810791016, 69.0893325805664, 63.88408279418945, 57.3415412902832, 98.3044204711914, 61.51271438598633, 41.36371612548828, 68.55801391601562, 58.94377899169922, 43.88124465942383, 44.59599685668945, 92.92855072021484, 88.26541900634766, 74.33296203613281, 91.00972747802734, 87.79192352294922, 55.18376922607422, 75.89842224121094, 81.65072631835938, 63.217933654785156, 92.30438995361328, 70.17650604248047, 95.19803619384766, 93.78549194335938, 67.9096450805664, 99.8064193725586, 76.31059265136719, 72.75225067138672, 49.94404983520508]}, {\"marker\": {\"size\": 5}, \"mode\": \"markers\", \"name\": \"3\", \"type\": \"scatter\", \"x\": [53.75994873046875, 55.68986129760742, 41.40501403808594, 38.91299057006836, 55.316856384277344, 50.95050048828125, 72.0899887084961, 77.88370513916016, 33.19609069824219, 70.72711944580078, 56.295005798339844, 83.78917694091797, 61.1706428527832, 68.90670013427734, 50.97926712036133, 41.54480743408203, 36.33116149902344, 67.69593048095703, 46.8127555847168, 74.23181915283203, 42.38529968261719, 42.86151885986328, 39.02777862548828, 60.39136505126953, 49.236270904541016, 42.86902618408203, 47.337249755859375, 56.08110809326172, 54.931396484375, 56.2784538269043, 52.89605712890625, 42.62921905517578, 62.830955505371094, 37.873680114746094, 54.74177169799805, 43.982662200927734, 38.640045166015625, 45.64437484741211, 51.45766830444336, 59.557044982910156, 61.02659606933594, 65.89210510253906, 35.898704528808594, 65.859130859375, 44.94886779785156, 68.78683471679688, 49.91562271118164, 39.80299758911133, 64.155517578125, 56.55137634277344, 43.911773681640625, 45.847599029541016, 46.446388244628906, 55.3419189453125, 53.41795349121094, 49.36273956298828, 47.79846954345703, 45.148956298828125, 40.74741744995117, 46.881710052490234, 45.41000747680664, 36.81732177734375, 46.585506439208984, 40.31299591064453, 41.882259368896484, 46.615577697753906, 53.57805633544922, 43.0289421081543, 49.147865295410156, 66.85557556152344, 67.13751220703125, 49.82249450683594, 51.947181701660156, 49.257835388183594, 51.10638427734375, 48.23354721069336, 49.507667541503906, 62.77254104614258, 50.93172073364258, 60.02181625366211, 51.702232360839844, 55.29869079589844, 46.960750579833984, 44.325599670410156, 44.613304138183594, 51.61504364013672, 67.12250518798828, 61.60916519165039, 56.503875732421875, 48.93802261352539, 48.9273681640625, 59.5693359375, 55.666351318359375, 65.23153686523438, 58.34200668334961, 37.48807907104492, 66.17094421386719, 69.51317596435547, 39.215904235839844, 49.46764373779297, 60.58738708496094, 63.313133239746094, 46.8266487121582, 73.91580200195312, 64.73484802246094, 56.256473541259766, 39.12726974487305, 57.81897735595703, 41.05369567871094, 48.372371673583984, 59.31458282470703, 38.730247497558594, 75.76809692382812, 59.007022857666016, 53.2345085144043, 53.424842834472656, 50.902427673339844, 63.33514404296875, 39.253299713134766, 42.82467269897461, 53.539573669433594, 36.54352569580078, 42.118717193603516, 57.80924606323242, 55.452335357666016, 51.5542106628418, 57.43798065185547, 48.70182418823242, 62.47803497314453, 58.685386657714844, 40.33238220214844, 48.86131286621094, 52.96416473388672, 55.15644073486328, 55.684574127197266, 43.60323715209961, 67.11490631103516, 60.75848388671875, 57.314552307128906, 50.957420349121094, 43.02491760253906, 53.07279586791992, 63.45521926879883, 53.92378234863281, 35.33416748046875, 69.71222686767578, 39.03789138793945, 67.33345794677734, 50.81391525268555, 55.964107513427734]}, {\"marker\": {\"size\": 5}, \"mode\": \"markers\", \"name\": \"4\", \"type\": \"scatter\", \"x\": [62.21369552612305, 37.20338439941406, 43.06671905517578, 39.683837890625, 48.207122802734375, 84.8486557006836, 42.8975944519043, 67.13448333740234, 62.54261016845703, 54.02471923828125, 68.361572265625, 47.746395111083984, 60.35213088989258, 48.376747131347656, 52.604774475097656, 49.389404296875, 71.7345962524414, 41.647666931152344, 38.57090759277344, 58.122276306152344, 40.42383575439453, 49.018863677978516, 39.1800537109375, 48.24903869628906, 63.69684982299805, 53.107852935791016, 65.87024688720703, 53.971435546875, 45.90576171875, 60.06156539916992, 57.658103942871094, 64.0883560180664, 61.00100326538086, 49.527645111083984, 58.337623596191406, 53.497215270996094, 45.434791564941406, 59.71103286743164, 62.98728942871094, 47.885276794433594, 56.13058853149414, 46.4146728515625, 38.02355194091797, 41.56513595581055, 43.547725677490234, 45.02512741088867, 49.88621520996094, 35.78565216064453, 49.65715408325195, 48.77870178222656, 44.944583892822266, 44.21156692504883, 61.53300094604492, 49.53449630737305, 39.63780212402344, 51.14735794067383, 46.71678161621094, 40.814632415771484, 49.71240997314453, 45.92655944824219, 68.29544830322266, 43.75937271118164, 55.21638488769531, 42.7918815612793, 48.55858612060547, 41.92987060546875, 85.72386169433594, 49.00408172607422, 53.80542755126953, 63.50700378417969, 49.13477325439453, 46.38303756713867, 58.548614501953125, 45.803131103515625, 46.50171661376953, 51.25202941894531, 47.0765380859375, 50.84516143798828, 39.850791931152344, 48.14944076538086, 51.54396438598633, 64.23433685302734, 59.82679748535156, 49.306243896484375, 44.50520324707031, 73.04882049560547, 53.320465087890625, 75.9791488647461, 56.48997116088867, 73.02833557128906, 67.63804626464844, 51.95917510986328, 84.70347595214844, 57.63069152832031, 68.94309997558594, 78.71199798583984, 54.011966705322266, 52.63443374633789, 78.8169937133789, 56.87847900390625, 70.00064849853516, 64.19532775878906, 60.50258255004883, 65.88936614990234, 75.38018798828125, 67.34085083007812, 40.5686149597168, 48.377525329589844, 56.37990188598633, 46.86331558227539, 44.4370231628418, 63.50322341918945, 58.77450942993164, 36.86073684692383, 44.92775344848633, 38.764244079589844, 66.16295623779297, 43.70563507080078, 50.996849060058594, 60.61069869995117, 45.904075622558594, 55.77653503417969, 45.1121940612793, 42.88673782348633, 58.12174606323242, 45.14752960205078, 53.49931716918945, 45.70468521118164, 57.28993606567383, 70.73332977294922, 36.23653793334961, 52.8513069152832, 53.04958724975586, 41.07493591308594, 52.15791702270508, 42.97114562988281, 44.62870788574219, 72.69718170166016, 46.78556442260742, 66.5136489868164, 78.00215148925781, 73.77754211425781, 62.91826248168945, 82.45531463623047, 79.34699249267578, 64.59413146972656, 51.57554244995117, 85.67324829101562, 52.85585021972656, 53.13106155395508]}, {\"marker\": {\"size\": 5}, \"mode\": \"markers\", \"name\": \"5\", \"type\": \"scatter\", \"x\": [55.286434173583984, 44.12910842895508, 46.27717590332031, 64.00991821289062, 49.042057037353516, 50.064002990722656, 40.546260833740234, 47.041107177734375, 57.38853073120117, 75.2008056640625, 51.854190826416016, 65.16866302490234, 50.065216064453125, 68.54147338867188, 64.35752868652344, 46.33000946044922, 38.300594329833984, 47.97630310058594, 48.51814651489258, 59.500465393066406, 55.198917388916016, 49.170265197753906, 55.19386672973633, 62.683860778808594, 51.96996307373047, 54.124629974365234, 66.62740325927734, 50.71635437011719, 58.90422439575195, 59.880924224853516, 45.74945068359375, 44.958778381347656, 64.32015228271484, 48.91474151611328, 57.61677551269531, 46.808860778808594, 57.10683059692383, 70.86341857910156, 66.09514617919922, 51.94246292114258, 53.413795471191406, 57.171939849853516, 58.81498718261719, 72.05068969726562, 44.127906799316406, 56.11308288574219, 53.838836669921875, 51.48004150390625, 56.281002044677734, 83.0990982055664, 52.13066864013672, 50.34235382080078, 57.48320770263672, 59.920257568359375, 60.164512634277344, 77.23956298828125, 49.97669219970703, 47.48741149902344, 55.26222610473633, 52.532310485839844, 46.833251953125, 56.862510681152344, 53.538028717041016, 57.52336883544922, 67.56402587890625, 44.32520294189453, 56.59928894042969, 53.08120346069336, 46.740028381347656, 46.903011322021484, 50.213478088378906, 44.60396957397461, 48.44985580444336, 46.02266311645508, 54.96570587158203, 57.18864059448242, 47.11087417602539, 53.595130920410156, 65.63390350341797, 41.925270080566406, 44.76290512084961, 48.75421142578125, 51.657100677490234, 53.25269317626953, 54.25422668457031, 64.87041473388672, 62.6667594909668, 54.45186233520508, 48.74081802368164, 56.53216552734375, 48.22126007080078, 56.395484924316406, 61.60608673095703, 46.77989959716797, 50.30360794067383, 56.82515335083008, 42.04176712036133, 48.77631759643555, 54.378761291503906, 63.92063903808594, 51.29291915893555, 50.210750579833984, 58.147987365722656, 41.92424392700195, 45.74029541015625, 63.95844650268555, 50.03438949584961, 74.77898406982422, 53.25862503051758, 46.062400817871094, 55.02727508544922, 54.23691177368164, 60.37551498413086, 50.164737701416016, 45.89816665649414, 52.342079162597656, 52.558624267578125, 52.69465637207031, 62.31290817260742, 74.44949340820312, 46.391727447509766, 41.123958587646484, 36.48614501953125, 52.787227630615234, 41.38058853149414, 56.29975128173828, 61.402191162109375, 57.26414108276367, 48.46367263793945, 45.136444091796875, 41.67001724243164, 59.66317367553711, 48.78510665893555, 51.07002258300781, 54.86377716064453, 42.516319274902344, 45.43793487548828, 63.70556640625, 65.3232192993164, 45.47409439086914, 56.576847076416016, 63.171051025390625, 63.54841232299805, 59.43259048461914, 49.64576721191406, 52.79649353027344, 46.37512969970703, 57.73881530761719, 52.176475524902344, 69.0831069946289]}, {\"marker\": {\"size\": 5}, \"mode\": \"markers\", \"name\": \"6\", \"type\": \"scatter\", \"x\": [51.78696060180664, 61.94775390625, 72.8698959350586, 44.4825553894043, 57.4873161315918, 70.63471984863281, 62.22788619995117, 41.137451171875, 68.10708618164062, 93.17411804199219, 36.801387786865234, 48.05628204345703, 47.08798599243164, 50.71458435058594, 62.108238220214844, 54.49165725708008, 83.74581146240234, 72.64749145507812, 80.0246810913086, 44.54086685180664, 43.18692398071289, 45.613243103027344, 47.78105926513672, 72.52658081054688, 71.0578842163086, 75.84268188476562, 64.07344055175781, 69.55339050292969, 49.4796142578125, 74.6124267578125, 53.82344436645508, 59.55991744995117, 40.70923614501953, 41.90257263183594, 61.85868835449219, 56.238128662109375, 47.474117279052734, 34.56222152709961, 39.861507415771484, 40.919097900390625, 61.048919677734375, 39.62989044189453, 44.725196838378906, 39.276405334472656, 63.40776824951172, 53.00324630737305, 37.2024040222168, 47.30207824707031, 41.87264633178711, 72.81379699707031, 62.078575134277344, 62.636871337890625, 58.94598388671875, 71.36969757080078, 70.44841766357422, 57.7778434753418, 57.72929763793945, 72.86134338378906, 60.138885498046875, 66.90918731689453, 77.43135833740234, 60.65159225463867, 62.312599182128906, 63.8854866027832, 61.04048538208008, 60.16328811645508, 84.41001892089844, 86.85492706298828, 76.36202239990234, 91.82000732421875, 72.07551574707031, 66.39838409423828, 68.73384857177734, 72.52336883544922, 69.58563995361328, 53.61332702636719, 64.21772766113281, 76.50948333740234, 61.616024017333984, 50.24531555175781, 47.314334869384766, 60.57408905029297, 50.31690216064453, 98.96439361572266, 91.58773040771484, 69.24903106689453, 58.393028259277344, 110.35905456542969, 85.79415130615234, 79.95738983154297, 88.32186126708984, 73.56228637695312, 35.528228759765625, 60.97761535644531, 34.69935989379883, 98.81941223144531, 73.9949951171875, 83.73030090332031, 98.7546615600586, 71.34893035888672, 106.59449005126953, 34.998382568359375, 66.02277374267578, 104.2642822265625, 63.644325256347656, 81.40850067138672, 54.09222412109375, 65.78636932373047, 52.01207733154297, 92.93020629882812, 51.92163848876953, 55.3720817565918, 52.06144332885742, 87.46956634521484, 61.19118881225586, 66.34062194824219, 41.168601989746094, 76.94535064697266, 43.76502227783203, 44.03335952758789, 47.30184555053711, 60.201045989990234, 69.71188354492188, 52.608394622802734, 83.5850601196289, 70.38531494140625, 54.51921081542969, 67.57794952392578, 55.23889923095703, 50.464752197265625, 73.63433837890625, 79.02494812011719, 49.953277587890625, 52.5294303894043, 90.33654022216797, 55.497535705566406, 83.1643295288086, 71.3495864868164, 75.20118713378906, 46.06337356567383, 53.58312225341797, 99.4146499633789, 35.953060150146484, 83.74607849121094, 49.048091888427734, 54.52130889892578, 80.37572479248047, 93.58617401123047, 56.21200942993164, 65.5244369506836]}, {\"marker\": {\"size\": 5}, \"mode\": \"markers\", \"name\": \"7\", \"type\": \"scatter\", \"x\": [64.42970275878906, 53.07718276977539, 89.12648010253906, 58.74939727783203, 68.88052368164062, 65.11358642578125, 72.64363098144531, 49.66761016845703, 62.611793518066406, 66.32849884033203, 61.693450927734375, 55.660457611083984, 57.1472282409668, 72.91871643066406, 47.210872650146484, 64.00536346435547, 89.45976257324219, 50.00592041015625, 41.08572769165039, 64.02719116210938, 47.01653289794922, 56.93305206298828, 42.12310791015625, 50.013511657714844, 47.480167388916016, 71.93446350097656, 67.65039825439453, 61.0468864440918, 63.682945251464844, 48.46601867675781, 62.042198181152344, 48.32044982910156, 83.45579528808594, 57.925350189208984, 41.73113250732422, 46.26093292236328, 51.193321228027344, 83.52642822265625, 51.0143928527832, 92.16509246826172, 44.281005859375, 103.25119018554688, 67.56900024414062, 72.20406341552734, 60.92329788208008, 69.88352966308594, 49.906585693359375, 68.64189147949219, 59.25178909301758, 53.16748046875, 58.726749420166016, 46.82316589355469, 88.66749572753906, 78.21173095703125, 78.96939086914062, 68.63253784179688, 56.935829162597656, 63.98935317993164, 96.10508728027344, 52.215087890625, 56.887210845947266, 92.15142822265625, 63.075050354003906, 47.11261749267578, 107.17549133300781, 48.15739059448242, 59.91960906982422, 46.112548828125, 47.5408935546875, 40.901546478271484, 38.403045654296875, 49.61907196044922, 46.495567321777344, 43.79119873046875, 82.67793273925781, 50.88771438598633, 42.69755554199219, 36.87941360473633, 48.04046630859375, 37.61408996582031, 59.58614730834961, 56.22940444946289, 68.16637420654297, 46.97505187988281, 49.65597915649414, 50.2672119140625, 80.11180114746094, 57.933135986328125, 57.967926025390625, 73.8019790649414, 75.67298126220703, 58.121437072753906, 43.782081604003906, 56.907588958740234, 51.354671478271484, 57.84273910522461, 76.13440704345703, 50.41334915161133, 53.36697006225586, 99.88463592529297, 65.08891296386719, 56.8865966796875, 51.81426239013672, 49.6938362121582, 58.093101501464844, 55.90547180175781, 68.1329116821289, 62.119380950927734, 50.39986801147461, 42.90925979614258, 67.64136505126953, 64.80872344970703, 66.52285766601562, 52.3512077331543, 63.81565856933594, 67.30862426757812, 60.47157669067383, 55.71802520751953, 93.09599304199219, 61.04314041137695, 45.02602005004883, 45.01608657836914, 62.59228515625, 46.376861572265625, 44.129852294921875, 44.373939514160156, 67.32232666015625, 54.755489349365234, 53.11738204956055, 73.83837890625, 48.97677230834961, 36.39400863647461, 46.7502555847168, 46.223045349121094, 48.04148483276367, 40.42853927612305, 55.98953628540039, 94.53130340576172, 44.61273193359375, 66.3899917602539, 51.74502182006836, 98.50328063964844, 66.43966674804688, 53.74552917480469, 65.40007019042969, 95.63710021972656, 66.57716369628906, 59.65083312988281, 69.07450866699219, 58.96477508544922]}, {\"marker\": {\"size\": 5}, \"mode\": \"markers\", \"name\": \"8\", \"type\": \"scatter\", \"x\": [33.59080123901367, 47.42482376098633, 34.248294830322266, 24.949548721313477, 24.155481338500977, 23.906352996826172, 38.16941452026367, 41.839149475097656, 55.618587493896484, 31.176040649414062, 28.228919982910156, 34.586578369140625, 38.30837631225586, 25.76748275756836, 24.964832305908203, 34.879669189453125, 38.763755798339844, 29.678382873535156, 23.53631019592285, 27.903343200683594, 40.460609436035156, 40.20418930053711, 42.15671157836914, 34.58200454711914, 28.6651611328125, 48.38996887207031, 27.451683044433594, 69.69449615478516, 23.00497055053711, 26.972095489501953, 59.09297561645508, 40.29578399658203, 31.779069900512695, 23.459083557128906, 46.39289474487305, 33.59811782836914, 24.872920989990234, 30.389020919799805, 31.758670806884766, 72.03557586669922, 39.79573440551758, 38.787174224853516, 27.31736183166504, 56.37367248535156, 29.20012092590332, 47.651947021484375, 21.189044952392578, 42.46066665649414, 42.19526672363281, 30.2623291015625, 30.281381607055664, 58.66573715209961, 60.23567581176758, 37.233795166015625, 60.31394577026367, 74.974853515625, 54.88475799560547, 54.543636322021484, 59.757808685302734, 36.95381164550781, 25.64000701904297, 54.93809127807617, 24.251638412475586, 29.994651794433594, 34.09266662597656, 25.627927780151367, 34.31977844238281, 28.0549373626709, 31.71563720703125, 31.32404136657715, 31.293041229248047, 41.82792663574219, 35.29540252685547, 41.12696838378906, 45.92827224731445, 33.1886100769043, 23.921634674072266, 36.400360107421875, 33.850528717041016, 40.7324104309082, 35.62345886230469, 42.94210433959961, 36.67709732055664, 31.138151168823242, 40.28915786743164, 38.81423568725586, 38.782344818115234, 21.165843963623047, 33.49237823486328, 29.771472930908203, 32.338783264160156, 25.602947235107422, 32.93051528930664, 29.58168601989746, 25.798856735229492, 21.875457763671875, 34.31130599975586, 32.114559173583984, 43.82958984375, 27.86025619506836, 36.89700698852539, 31.860559463500977, 31.476659774780273, 51.875450134277344, 49.6901741027832, 37.84078598022461, 44.358726501464844, 31.709819793701172, 58.88163757324219, 25.81045913696289, 26.296344757080078, 52.145164489746094, 78.86709594726562, 39.2414665222168, 57.22878646850586, 37.196144104003906, 37.12786865234375, 50.9174690246582, 55.33179473876953, 23.611541748046875, 43.21625900268555, 35.211761474609375, 45.92853927612305, 51.747982025146484, 20.659090042114258, 34.761817932128906, 27.381528854370117, 46.914207458496094, 29.936397552490234, 40.946712493896484, 52.065711975097656, 36.88609313964844, 44.396217346191406, 34.96178436279297, 36.984474182128906, 34.39394760131836, 46.519954681396484, 42.281761169433594, 44.90692901611328, 31.426528930664062, 46.548465728759766, 39.10274124145508, 36.43918991088867, 32.30458068847656, 33.12015914916992, 27.83149528503418, 43.24626922607422, 35.73146057128906, 22.297361373901367, 35.893821716308594]}, {\"marker\": {\"size\": 5}, \"mode\": \"markers\", \"name\": \"9\", \"type\": \"scatter\", \"x\": [45.99799728393555, 40.93421936035156, 40.97366714477539, 51.370784759521484, 44.58919906616211, 41.82610321044922, 41.32914733886719, 73.38594055175781, 55.719974517822266, 45.23659896850586, 46.84614181518555, 43.18443298339844, 37.321109771728516, 39.632476806640625, 37.909149169921875, 49.913490295410156, 51.30528259277344, 54.57529830932617, 36.587486267089844, 38.26313781738281, 54.35654830932617, 43.792972564697266, 33.81095886230469, 31.53989028930664, 37.01595687866211, 44.990318298339844, 34.54708480834961, 43.31276321411133, 48.22587203979492, 46.99058532714844, 43.66831970214844, 33.43840026855469, 69.2713394165039, 50.81218338012695, 38.48766326904297, 38.80923843383789, 35.141883850097656, 39.25871658325195, 42.65400695800781, 49.968231201171875, 65.10526275634766, 40.33367156982422, 50.22793960571289, 56.92546463012695, 40.39286422729492, 53.86310577392578, 38.246002197265625, 44.219566345214844, 41.622650146484375, 46.930301666259766, 57.38541793823242, 53.781532287597656, 44.71306228637695, 69.1383285522461, 43.81414794921875, 48.232242584228516, 48.61053466796875, 54.92860412597656, 44.02693176269531, 61.71256637573242, 34.33488464355469, 47.270572662353516, 50.71890640258789, 40.36955642700195, 42.261940002441406, 48.46213912963867, 42.0633544921875, 43.16667556762695, 45.91987228393555, 40.14996337890625, 46.044593811035156, 40.01850128173828, 40.39931106567383, 75.11192321777344, 36.236331939697266, 48.5446891784668, 51.384971618652344, 42.28861999511719, 47.99993133544922, 52.13801574707031, 52.553062438964844, 58.57587814331055, 53.81639099121094, 55.43606185913086, 59.158084869384766, 62.44773864746094, 35.75867462158203, 33.50632095336914, 51.94684600830078, 64.21883392333984, 53.961883544921875, 70.37749481201172, 60.05936050415039, 53.45553970336914, 82.20584869384766, 86.5506591796875, 49.85247039794922, 56.30831527709961, 62.80229568481445, 44.581626892089844, 70.23982238769531, 66.6236572265625, 47.272369384765625, 49.65070343017578, 87.48007202148438, 47.421051025390625, 38.53166961669922, 40.501853942871094, 46.27058792114258, 40.579986572265625, 38.972076416015625, 61.46980667114258, 46.535770416259766, 42.69156265258789, 50.590091705322266, 53.9091682434082, 44.443668365478516, 80.6063461303711, 36.993682861328125, 40.24085998535156, 56.89070510864258, 36.755088806152344, 52.40185546875, 62.76323318481445, 42.12456130981445, 48.214900970458984, 37.04204559326172, 59.33650207519531, 50.7421989440918, 55.55284118652344, 39.40971374511719, 42.85145568847656, 59.22572326660156, 39.55982971191406, 45.64160919189453, 47.2686767578125, 45.301753997802734, 52.37813949584961, 65.65741729736328, 50.92154312133789, 63.86555099487305, 48.50768280029297, 49.304203033447266, 65.19607543945312, 43.21015930175781, 58.67082214355469, 60.86530303955078, 51.65333938598633, 45.781009674072266, 48.44634246826172]}],                        {\"height\": 500, \"template\": {\"data\": {\"bar\": [{\"error_x\": {\"color\": \"#2a3f5f\"}, \"error_y\": {\"color\": \"#2a3f5f\"}, \"marker\": {\"line\": {\"color\": \"#E5ECF6\", \"width\": 0.5}}, \"type\": \"bar\"}], \"barpolar\": [{\"marker\": {\"line\": {\"color\": \"#E5ECF6\", \"width\": 0.5}}, \"type\": \"barpolar\"}], \"carpet\": [{\"aaxis\": {\"endlinecolor\": \"#2a3f5f\", \"gridcolor\": \"white\", \"linecolor\": \"white\", \"minorgridcolor\": \"white\", \"startlinecolor\": \"#2a3f5f\"}, \"baxis\": {\"endlinecolor\": \"#2a3f5f\", \"gridcolor\": \"white\", \"linecolor\": \"white\", \"minorgridcolor\": \"white\", \"startlinecolor\": \"#2a3f5f\"}, \"type\": \"carpet\"}], \"choropleth\": [{\"colorbar\": {\"outlinewidth\": 0, \"ticks\": \"\"}, \"type\": \"choropleth\"}], \"contour\": [{\"colorbar\": {\"outlinewidth\": 0, \"ticks\": \"\"}, \"colorscale\": [[0.0, \"#0d0887\"], [0.1111111111111111, \"#46039f\"], [0.2222222222222222, \"#7201a8\"], [0.3333333333333333, \"#9c179e\"], [0.4444444444444444, \"#bd3786\"], [0.5555555555555556, \"#d8576b\"], [0.6666666666666666, \"#ed7953\"], [0.7777777777777778, \"#fb9f3a\"], [0.8888888888888888, \"#fdca26\"], [1.0, \"#f0f921\"]], \"type\": \"contour\"}], \"contourcarpet\": [{\"colorbar\": {\"outlinewidth\": 0, \"ticks\": \"\"}, \"type\": \"contourcarpet\"}], \"heatmap\": [{\"colorbar\": {\"outlinewidth\": 0, \"ticks\": \"\"}, \"colorscale\": [[0.0, \"#0d0887\"], [0.1111111111111111, \"#46039f\"], [0.2222222222222222, \"#7201a8\"], [0.3333333333333333, \"#9c179e\"], [0.4444444444444444, \"#bd3786\"], [0.5555555555555556, \"#d8576b\"], [0.6666666666666666, \"#ed7953\"], [0.7777777777777778, \"#fb9f3a\"], [0.8888888888888888, \"#fdca26\"], [1.0, \"#f0f921\"]], \"type\": \"heatmap\"}], \"heatmapgl\": [{\"colorbar\": {\"outlinewidth\": 0, \"ticks\": \"\"}, \"colorscale\": [[0.0, \"#0d0887\"], [0.1111111111111111, \"#46039f\"], [0.2222222222222222, \"#7201a8\"], [0.3333333333333333, \"#9c179e\"], [0.4444444444444444, \"#bd3786\"], [0.5555555555555556, \"#d8576b\"], [0.6666666666666666, \"#ed7953\"], [0.7777777777777778, \"#fb9f3a\"], [0.8888888888888888, \"#fdca26\"], [1.0, \"#f0f921\"]], \"type\": \"heatmapgl\"}], \"histogram\": [{\"marker\": {\"colorbar\": {\"outlinewidth\": 0, \"ticks\": \"\"}}, \"type\": \"histogram\"}], \"histogram2d\": [{\"colorbar\": {\"outlinewidth\": 0, \"ticks\": \"\"}, \"colorscale\": [[0.0, \"#0d0887\"], [0.1111111111111111, \"#46039f\"], [0.2222222222222222, \"#7201a8\"], [0.3333333333333333, \"#9c179e\"], [0.4444444444444444, \"#bd3786\"], [0.5555555555555556, \"#d8576b\"], [0.6666666666666666, \"#ed7953\"], [0.7777777777777778, \"#fb9f3a\"], [0.8888888888888888, \"#fdca26\"], [1.0, \"#f0f921\"]], \"type\": \"histogram2d\"}], \"histogram2dcontour\": [{\"colorbar\": {\"outlinewidth\": 0, \"ticks\": \"\"}, \"colorscale\": [[0.0, \"#0d0887\"], [0.1111111111111111, \"#46039f\"], [0.2222222222222222, \"#7201a8\"], [0.3333333333333333, \"#9c179e\"], [0.4444444444444444, \"#bd3786\"], [0.5555555555555556, \"#d8576b\"], [0.6666666666666666, \"#ed7953\"], [0.7777777777777778, \"#fb9f3a\"], [0.8888888888888888, \"#fdca26\"], [1.0, \"#f0f921\"]], \"type\": \"histogram2dcontour\"}], \"mesh3d\": [{\"colorbar\": {\"outlinewidth\": 0, \"ticks\": \"\"}, \"type\": \"mesh3d\"}], \"parcoords\": [{\"line\": {\"colorbar\": {\"outlinewidth\": 0, \"ticks\": \"\"}}, \"type\": \"parcoords\"}], \"pie\": [{\"automargin\": true, \"type\": \"pie\"}], \"scatter\": [{\"marker\": {\"colorbar\": {\"outlinewidth\": 0, \"ticks\": \"\"}}, \"type\": \"scatter\"}], \"scatter3d\": [{\"line\": {\"colorbar\": {\"outlinewidth\": 0, \"ticks\": \"\"}}, \"marker\": {\"colorbar\": {\"outlinewidth\": 0, \"ticks\": \"\"}}, \"type\": \"scatter3d\"}], \"scattercarpet\": [{\"marker\": {\"colorbar\": {\"outlinewidth\": 0, \"ticks\": \"\"}}, \"type\": \"scattercarpet\"}], \"scattergeo\": [{\"marker\": {\"colorbar\": {\"outlinewidth\": 0, \"ticks\": \"\"}}, \"type\": \"scattergeo\"}], \"scattergl\": [{\"marker\": {\"colorbar\": {\"outlinewidth\": 0, \"ticks\": \"\"}}, \"type\": \"scattergl\"}], \"scattermapbox\": [{\"marker\": {\"colorbar\": {\"outlinewidth\": 0, \"ticks\": \"\"}}, \"type\": \"scattermapbox\"}], \"scatterpolar\": [{\"marker\": {\"colorbar\": {\"outlinewidth\": 0, \"ticks\": \"\"}}, \"type\": \"scatterpolar\"}], \"scatterpolargl\": [{\"marker\": {\"colorbar\": {\"outlinewidth\": 0, \"ticks\": \"\"}}, \"type\": \"scatterpolargl\"}], \"scatterternary\": [{\"marker\": {\"colorbar\": {\"outlinewidth\": 0, \"ticks\": \"\"}}, \"type\": \"scatterternary\"}], \"surface\": [{\"colorbar\": {\"outlinewidth\": 0, \"ticks\": \"\"}, \"colorscale\": [[0.0, \"#0d0887\"], [0.1111111111111111, \"#46039f\"], [0.2222222222222222, \"#7201a8\"], [0.3333333333333333, \"#9c179e\"], [0.4444444444444444, \"#bd3786\"], [0.5555555555555556, \"#d8576b\"], [0.6666666666666666, \"#ed7953\"], [0.7777777777777778, \"#fb9f3a\"], [0.8888888888888888, \"#fdca26\"], [1.0, \"#f0f921\"]], \"type\": \"surface\"}], \"table\": [{\"cells\": {\"fill\": {\"color\": \"#EBF0F8\"}, \"line\": {\"color\": \"white\"}}, \"header\": {\"fill\": {\"color\": \"#C8D4E3\"}, \"line\": {\"color\": \"white\"}}, \"type\": \"table\"}]}, \"layout\": {\"annotationdefaults\": {\"arrowcolor\": \"#2a3f5f\", \"arrowhead\": 0, \"arrowwidth\": 1}, \"autotypenumbers\": \"strict\", \"coloraxis\": {\"colorbar\": {\"outlinewidth\": 0, \"ticks\": \"\"}}, \"colorscale\": {\"diverging\": [[0, \"#8e0152\"], [0.1, \"#c51b7d\"], [0.2, \"#de77ae\"], [0.3, \"#f1b6da\"], [0.4, \"#fde0ef\"], [0.5, \"#f7f7f7\"], [0.6, \"#e6f5d0\"], [0.7, \"#b8e186\"], [0.8, \"#7fbc41\"], [0.9, \"#4d9221\"], [1, \"#276419\"]], \"sequential\": [[0.0, \"#0d0887\"], [0.1111111111111111, \"#46039f\"], [0.2222222222222222, \"#7201a8\"], [0.3333333333333333, \"#9c179e\"], [0.4444444444444444, \"#bd3786\"], [0.5555555555555556, \"#d8576b\"], [0.6666666666666666, \"#ed7953\"], [0.7777777777777778, \"#fb9f3a\"], [0.8888888888888888, \"#fdca26\"], [1.0, \"#f0f921\"]], \"sequentialminus\": [[0.0, \"#0d0887\"], [0.1111111111111111, \"#46039f\"], [0.2222222222222222, \"#7201a8\"], [0.3333333333333333, \"#9c179e\"], [0.4444444444444444, \"#bd3786\"], [0.5555555555555556, \"#d8576b\"], [0.6666666666666666, \"#ed7953\"], [0.7777777777777778, \"#fb9f3a\"], [0.8888888888888888, \"#fdca26\"], [1.0, \"#f0f921\"]]}, \"colorway\": [\"#636efa\", \"#EF553B\", \"#00cc96\", \"#ab63fa\", \"#FFA15A\", \"#19d3f3\", \"#FF6692\", \"#B6E880\", \"#FF97FF\", \"#FECB52\"], \"font\": {\"color\": \"#2a3f5f\"}, \"geo\": {\"bgcolor\": \"white\", \"lakecolor\": \"white\", \"landcolor\": \"#E5ECF6\", \"showlakes\": true, \"showland\": true, \"subunitcolor\": \"white\"}, \"hoverlabel\": {\"align\": \"left\"}, \"hovermode\": \"closest\", \"mapbox\": {\"style\": \"light\"}, \"paper_bgcolor\": \"white\", \"plot_bgcolor\": \"#E5ECF6\", \"polar\": {\"angularaxis\": {\"gridcolor\": \"white\", \"linecolor\": \"white\", \"ticks\": \"\"}, \"bgcolor\": \"#E5ECF6\", \"radialaxis\": {\"gridcolor\": \"white\", \"linecolor\": \"white\", \"ticks\": \"\"}}, \"scene\": {\"xaxis\": {\"backgroundcolor\": \"#E5ECF6\", \"gridcolor\": \"white\", \"gridwidth\": 2, \"linecolor\": \"white\", \"showbackground\": true, \"ticks\": \"\", \"zerolinecolor\": \"white\"}, \"yaxis\": {\"backgroundcolor\": \"#E5ECF6\", \"gridcolor\": \"white\", \"gridwidth\": 2, \"linecolor\": \"white\", \"showbackground\": true, \"ticks\": \"\", \"zerolinecolor\": \"white\"}, \"zaxis\": {\"backgroundcolor\": \"#E5ECF6\", \"gridcolor\": \"white\", \"gridwidth\": 2, \"linecolor\": \"white\", \"showbackground\": true, \"ticks\": \"\", \"zerolinecolor\": \"white\"}}, \"shapedefaults\": {\"line\": {\"color\": \"#2a3f5f\"}}, \"ternary\": {\"aaxis\": {\"gridcolor\": \"white\", \"linecolor\": \"white\", \"ticks\": \"\"}, \"baxis\": {\"gridcolor\": \"white\", \"linecolor\": \"white\", \"ticks\": \"\"}, \"bgcolor\": \"#E5ECF6\", \"caxis\": {\"gridcolor\": \"white\", \"linecolor\": \"white\", \"ticks\": \"\"}}, \"title\": {\"x\": 0.05}, \"xaxis\": {\"automargin\": true, \"gridcolor\": \"white\", \"linecolor\": \"white\", \"ticks\": \"\", \"title\": {\"standoff\": 15}, \"zerolinecolor\": \"white\", \"zerolinewidth\": 2}, \"yaxis\": {\"automargin\": true, \"gridcolor\": \"white\", \"linecolor\": \"white\", \"ticks\": \"\", \"title\": {\"standoff\": 15}, \"zerolinecolor\": \"white\", \"zerolinewidth\": 2}}}, \"width\": 700},                        {\"responsive\": true}                    ).then(function(){\n",
       "                            \n",
       "var gd = document.getElementById('e88251c0-0994-402d-aef0-5ad973ed45b3');\n",
       "var x = new MutationObserver(function (mutations, observer) {{\n",
       "        var display = window.getComputedStyle(gd).display;\n",
       "        if (!display || display === 'none') {{\n",
       "            console.log([gd, 'removed!']);\n",
       "            Plotly.purge(gd);\n",
       "            observer.disconnect();\n",
       "        }}\n",
       "}});\n",
       "\n",
       "// Listen for the removal of the full notebook cells\n",
       "var notebookContainer = gd.closest('#notebook-container');\n",
       "if (notebookContainer) {{\n",
       "    x.observe(notebookContainer, {childList: true});\n",
       "}}\n",
       "\n",
       "// Listen for the clearing of the current output cell\n",
       "var outputEl = gd.closest('.output');\n",
       "if (outputEl) {{\n",
       "    x.observe(outputEl, {childList: true});\n",
       "}}\n",
       "\n",
       "                        })                };                });            </script>        </div>"
      ]
     },
     "metadata": {},
     "output_type": "display_data"
    }
   ],
   "source": [
    "test_batch = 1\n",
    "all_numbers = tuple(range(10))\n",
    "testset = Dataset_MNIST(root, all_numbers, \"val\", transform[\"test\"], each_datanum=each_datanum)\n",
    "testloader = torch.utils.data.DataLoader(dataset=testset, batch_size=test_batch, shuffle=False)\n",
    "\n",
    "labels, inputs, outputs, losses, latents = do_test_VAE(net, testloader, device, \"eval\", losses_mean=False)\n",
    "losses = np.array(losses)\n",
    "\n",
    "trace = []\n",
    "# ls = np.mean(np.square((inputs[:,0,:,:] - outputs)**2), axis=(1,2))\n",
    "for i in range(len(all_numbers)):\n",
    "#     _x = ls[labels==all_numbers[i]]\n",
    "    _x = losses[labels==all_numbers[i]]\n",
    "    trace.append(go.Scatter(x=_x, mode=\"markers\", name=f\"{all_numbers[i]}\", \n",
    "                              marker = dict(size=5)))\n",
    "layout = go.Layout(width=700, height=500)    \n",
    "data = trace\n",
    "fig = dict(data=data, layout=layout)\n",
    "iplot(fig)"
   ]
  },
  {
   "cell_type": "markdown",
   "metadata": {},
   "source": [
    "---\n",
    "---\n",
    "---\n",
    "問題3: 正常クラスのデータと異常クラスのデータではどのような違いが現れましたか．\n",
    "\n",
    "Q3: What were the differences of distributions between normal class and abnormal classes.\n",
    "\n",
    "---\n",
    "\n",
    "Answer:\n",
    "\n",
    "---\n",
    "---\n",
    "\n",
    "問題4: そのような違いが現れた理由はなんですか．\n",
    "\n",
    "Q4: Why it happened?\n",
    "\n",
    "---\n",
    "\n",
    "Answer:\n",
    "\n",
    "---\n",
    "---\n",
    "\n",
    "問題5: これを用いてどのように異常検知を行うことができますか．\n",
    "\n",
    "Q5: How can you use this phoenomenon to conduct anomaly detection?\n",
    "\n",
    "---\n",
    "\n",
    "Answer:\n",
    "\n",
    "---\n",
    "---\n",
    "---"
   ]
  }
 ],
 "metadata": {
  "kernelspec": {
   "display_name": "Python 3",
   "language": "python",
   "name": "python3"
  },
  "language_info": {
   "codemirror_mode": {
    "name": "ipython",
    "version": 3
   },
   "file_extension": ".py",
   "mimetype": "text/x-python",
   "name": "python",
   "nbconvert_exporter": "python",
   "pygments_lexer": "ipython3",
   "version": "3.6.9"
  }
 },
 "nbformat": 4,
 "nbformat_minor": 4
}
