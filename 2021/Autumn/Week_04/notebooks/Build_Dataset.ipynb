{
 "cells": [
  {
   "cell_type": "code",
   "execution_count": 1,
   "metadata": {},
   "outputs": [],
   "source": [
    "import pandas as pd\n",
    "import os\n",
    "import numpy as np\n",
    "from PIL import Image "
   ]
  },
  {
   "cell_type": "code",
   "execution_count": 2,
   "metadata": {},
   "outputs": [],
   "source": [
    "import sys\n",
    "sys.path.append(\"./../pyfiles/\")\n",
    "from util import image_from_numpy"
   ]
  },
  {
   "cell_type": "markdown",
   "metadata": {},
   "source": [
    "---\n",
    "In this notebook, I'm going to build a dataset which is for `01_classification.ipynb`. Before you proceed, download the image datasets cited [here](https://www.kaggle.com/zalando-research/fashionmnist). You will get the `archive` folder from this site so after that put it into`Week_05_PyTorch`.\n",
    "\n",
    "---"
   ]
  },
  {
   "cell_type": "code",
   "execution_count": 28,
   "metadata": {},
   "outputs": [],
   "source": [
    "data = pd.read_csv(\"../dataset/MNIST_csv/mnist_train.csv\")"
   ]
  },
  {
   "cell_type": "code",
   "execution_count": 29,
   "metadata": {},
   "outputs": [],
   "source": [
    "images = data.drop(columns=[\"label\"]).values\n",
    "images = images.reshape(-1, 28, 28)\n",
    "labels = data[\"label\"].values"
   ]
  },
  {
   "cell_type": "code",
   "execution_count": 30,
   "metadata": {},
   "outputs": [],
   "source": [
    "classes = tuple(range(10))"
   ]
  },
  {
   "cell_type": "code",
   "execution_count": 31,
   "metadata": {},
   "outputs": [],
   "source": [
    "import shutil"
   ]
  },
  {
   "cell_type": "code",
   "execution_count": 32,
   "metadata": {},
   "outputs": [],
   "source": [
    "dataset_dir = \"../dataset/MNIST/\"\n",
    "\n",
    "shutil.rmtree(dataset_dir)\n",
    "os.makedirs(dataset_dir, exist_ok=True)\n",
    "for i in classes:\n",
    "    path = dataset_dir + str(i) \n",
    "    os.makedirs(path, exist_ok=True)"
   ]
  },
  {
   "cell_type": "code",
   "execution_count": 36,
   "metadata": {},
   "outputs": [
    {
     "name": "stdout",
     "output_type": "stream",
     "text": [
      "0\n",
      "1\n",
      "2\n",
      "3\n",
      "4\n",
      "5\n",
      "6\n",
      "7\n",
      "8\n",
      "9\n"
     ]
    }
   ],
   "source": [
    "each_data_num = 1000\n",
    "for i in classes:\n",
    "    print(i)\n",
    "    image_list = image_from_numpy(np.reshape(images[labels==i], (-1,1,28,28)))\n",
    "#     for i in range(len(image_list)):\n",
    "    for j in range(each_data_num):\n",
    "        path = f\"{dataset_dir}{i}/{i}_{str(j).zfill(4)}.png\"\n",
    "        img = image_list[j]\n",
    "        img.save(path, format=\"png\")"
   ]
  },
  {
   "cell_type": "code",
   "execution_count": null,
   "metadata": {},
   "outputs": [],
   "source": []
  }
 ],
 "metadata": {
  "kernelspec": {
   "display_name": "Python 3",
   "language": "python",
   "name": "python3"
  },
  "language_info": {
   "codemirror_mode": {
    "name": "ipython",
    "version": 3
   },
   "file_extension": ".py",
   "mimetype": "text/x-python",
   "name": "python",
   "nbconvert_exporter": "python",
   "pygments_lexer": "ipython3",
   "version": "3.6.9"
  }
 },
 "nbformat": 4,
 "nbformat_minor": 4
}
