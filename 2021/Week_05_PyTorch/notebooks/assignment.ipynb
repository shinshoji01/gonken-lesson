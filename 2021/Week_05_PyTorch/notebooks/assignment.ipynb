{
 "cells": [
  {
   "cell_type": "code",
   "execution_count": 1,
   "metadata": {},
   "outputs": [],
   "source": [
    "import warnings\n",
    "warnings.filterwarnings(\"ignore\")\n",
    "import torch\n",
    "import torchvision.transforms as transforms\n",
    "import torch.nn as nn\n",
    "import torch.optim as optim\n",
    "from sklearn.metrics import accuracy_score, confusion_matrix\n",
    "from IPython.display import clear_output\n",
    "import pandas as pd\n",
    "import copy\n",
    "import numpy as np\n",
    "import glob\n",
    "import matplotlib.pyplot as plt\n",
    "from PIL import Image"
   ]
  },
  {
   "cell_type": "code",
   "execution_count": 2,
   "metadata": {},
   "outputs": [],
   "source": [
    "import sys\n",
    "sys.path.append(\"../pyfiles/\")\n",
    "from util import *"
   ]
  },
  {
   "cell_type": "code",
   "execution_count": 3,
   "metadata": {},
   "outputs": [],
   "source": [
    "transform = {}\n",
    "transform[\"train\"] = transforms.Compose([\n",
    "    transforms.Resize(32),\n",
    "    transforms.RandomHorizontalFlip(p=0.5),\n",
    "    transforms.ToTensor(),\n",
    "    MinMax(mean0=True),\n",
    "])\n",
    "    \n",
    "transform[\"test\"] = transforms.Compose([\n",
    "    transforms.Resize(32),\n",
    "    transforms.ToTensor(),\n",
    "    MinMax(mean0=True),\n",
    "])"
   ]
  },
  {
   "cell_type": "markdown",
   "metadata": {},
   "source": [
    "---\n",
    "In PyTorch implementation, `Dataset` is required for training and inference. Some datasets have their own implementation in PyTorch such as MNIST, CIFAR10, and even FashionMNIST. However, understandably, you're going to use a dataset that is not available in PyTorch. In this section, I'll teach you how to implement your dataset function.\n",
    "\n",
    "Again, in this notebook, I'm going to use the dataset which is available [here](https://drive.google.com/drive/folders/1VBSpK6ekzg9eqlNyoUQyP3GKySyd2w8g?usp=sharing), please download it before going forward. \n",
    "First of all, this dataset originated from Fashion MNIST, and it was modified to be smaller and easy to implement. The modification is detailed in `notebooks/A_build_dataset1.ipynb`. The main folder is composed of 10 folders and each of them contains all data in a certain class. The tree structure is:\n",
    "```\n",
    "fashion_dataset2\n",
    "├── 1\n",
    "│   ├── 0_0001.png\n",
    "│   ├── 0_0002.png\n",
    "│   └── ...\n",
    "├── 2\n",
    "│   ├── 0_0001.png\n",
    "│   ├── 0_0002.png\n",
    "│   └── ...\n",
    "├── 3\n",
    "│   ├── 0_0001.png\n",
    "│   ├── 0_0002.png\n",
    "│   └── ...\n",
    "├── ...\n",
    "```\n",
    "\n",
    "*Dataset* can be mainly divided into 2 sections; initialization and calling. It'll process the initialization step only when you call the function at the beginning, so you should put lengthy computation in this section. On the other hand, in the calling section or `__getitem__`, it'll be processed every iteration of training, so obviously, it should be as simple as possible. Needless to say, data augmentation computation is included in `__getitem__` to alter the data. However, due to the limitation of memory capacity, all data can't be stored simultaneously, so I recommend to store the path of the images in the initialization step and open it in the calling section. \n",
    "\n",
    "---"
   ]
  },
  {
   "cell_type": "code",
   "execution_count": 4,
   "metadata": {},
   "outputs": [],
   "source": [
    "class Dataset_Fashion_MNIST(torch.utils.data.Dataset):\n",
    "    def __init__(self, root, classes, class_labels, mode=\"train\", transform=None, balance=[0.7,0.15,0.15], each_data_num=10000000):\n",
    "        \n",
    "        self.transform = transform\n",
    "        self.images = []\n",
    "        self.labels = []\n",
    "\n",
    "        images = {} \n",
    "        labels = {}\n",
    "        \n",
    "        for cl in classes:\n",
    "            \n",
    "            # -------------- add the code below ------------------- #\n",
    "            path_list = glob.glob(root + f\"{class_labels[cl]}/*\") \n",
    "            # ----------------------------------------------------- #\n",
    "            \n",
    "            path_list.sort()\n",
    "            path_list = path_list[:each_data_num]\n",
    "            \n",
    "            train_num = int(balance[0]*len(path_list))\n",
    "            val_num = int(balance[1]*len(path_list))\n",
    "            test_num = int(balance[2]*len(path_list))\n",
    "            \n",
    "            if mode==\"train\":\n",
    "                path_list = path_list[:train_num]\n",
    "            elif mode==\"val\":\n",
    "                path_list = path_list[train_num:train_num+val_num]\n",
    "            elif mode==\"test\":\n",
    "                path_list = path_list[-test_num:]\n",
    "                \n",
    "            images[str(cl)] = path_list\n",
    "            labels[str(cl)] = [cl]*len(path_list)\n",
    "            \n",
    "        # combine them together\n",
    "        for label in classes:\n",
    "            for image, label in zip(images[str(label)], labels[str(label)]):\n",
    "                self.images.append(image)\n",
    "                self.labels.append(label)\n",
    "\n",
    "    def __getitem__(self, index):\n",
    "        \n",
    "        image = self.images[index]\n",
    "        label = self.labels[index]\n",
    "        \n",
    "        with open(image, 'rb') as f:\n",
    "            image = Image.open(f)\n",
    "            image = image.convert(\"L\")\n",
    "        \n",
    "        if self.transform is not None:\n",
    "            image = self.transform(image)\n",
    "            \n",
    "        return image, label\n",
    "    \n",
    "    def __len__(self):\n",
    "        return len(self.images)"
   ]
  },
  {
   "cell_type": "markdown",
   "metadata": {},
   "source": [
    "---\n",
    "Define some variables including path of the dataset and the class labels.\n",
    "\n",
    "---"
   ]
  },
  {
   "cell_type": "code",
   "execution_count": 6,
   "metadata": {},
   "outputs": [],
   "source": [
    "# -------------- modify the code below ------------------- #\n",
    "# class_labels = [\"T-shirt\", \"Trouser\", \"Dress\", \"Coat\", \"Sandal\", \"Sneaker\", \"Bag\", \"Ankle_boot\"]\n",
    "class_labels = [\"Sandal\", \"Sneaker\", \"Ankle_boot\"]\n",
    "# -------------------------------------------------------- #\n",
    "\n",
    "root = \"../fashion_dataset2/\"\n",
    "classes = range(len(class_labels))"
   ]
  },
  {
   "cell_type": "code",
   "execution_count": 7,
   "metadata": {},
   "outputs": [
    {
     "data": {
      "text/plain": [
       "3780"
      ]
     },
     "execution_count": 7,
     "metadata": {},
     "output_type": "execute_result"
    }
   ],
   "source": [
    "dataset = Dataset_Fashion_MNIST(root, classes, class_labels, \"train\", transform[\"train\"], each_data_num=1800)\n",
    "len(dataset)"
   ]
  },
  {
   "cell_type": "code",
   "execution_count": 8,
   "metadata": {},
   "outputs": [
    {
     "data": {
      "image/png": "[encoded data removed]",
      "text/plain": [
       "<Figure size 810x1152 with 12 Axes>"
      ]
     },
     "metadata": {
      "needs_background": "light"
     },
     "output_type": "display_data"
    }
   ],
   "source": [
    "display_num = 4\n",
    "each_num = int(len(dataset)/len(classes))\n",
    "fig = plt.figure(figsize=(3.75*len(classes), display_num*4))\n",
    "for i in range(display_num):\n",
    "    for cl in classes:\n",
    "        ax = fig.add_subplot(display_num, len(classes), len(classes)*i+cl+1)\n",
    "        index = np.random.randint(0,each_num)+cl*each_num\n",
    "        x, label = dataset[index]\n",
    "        ax.imshow(image_from_output(x)[0])\n",
    "        ax.set_title(f\"{class_labels[cl]}\", fontsize=20)"
   ]
  },
  {
   "cell_type": "markdown",
   "metadata": {},
   "source": [
    "# Preparation\n",
    "---\n",
    "Ok, so let's take a look at the model structures and some algorithms for training.\n",
    "\n",
    "---"
   ]
  },
  {
   "cell_type": "markdown",
   "metadata": {},
   "source": [
    "## Model Structure\n",
    "---\n",
    "The instruction is shown below in a form of a diagram and a procedure. \n",
    "\n",
    "<img src=\"./../data/images/cnn.png\" width=\"800\">\n",
    "\n",
    "\n",
    "- the model consists of 3 convolutional blocks and *2* fully connected layers.\n",
    "- each convolutional block has a convolutional layer and a *averaged* pooling layer.\n",
    "- *Tanh* is employed as an activation function except for the final layer.\n",
    "- Of course, this is classification task, so you should use Softmax function in the last computation.\n",
    "\n",
    "\n",
    "the image is from [this site](https://towardsdatascience.com/a-comprehensive-guide-to-convolutional-neural-networks-the-eli5-way-3bd2b1164a53)\n",
    "\n",
    "---"
   ]
  },
  {
   "cell_type": "code",
   "execution_count": 12,
   "metadata": {},
   "outputs": [],
   "source": [
    "class Flatten(nn.Module):\n",
    "    def __init__(self):\n",
    "        super(Flatten, self).__init__()\n",
    "\n",
    "    def forward(self, x):\n",
    "        return x.reshape(x.size(0), -1)"
   ]
  },
  {
   "cell_type": "code",
   "execution_count": 23,
   "metadata": {},
   "outputs": [],
   "source": [
    "class ConvolutionalBlock(nn.Module):\n",
    "    \n",
    "    def __init__(self, nch_in, nch_out, kernel):\n",
    "        super(ConvolutionalBlock, self).__init__()\n",
    "        \n",
    "        self.layers = nn.Sequential(\n",
    "            nn.Conv2d(nch_in, nch_out, kernel_size=kernel, stride=1, padding=int((kernel-1)/2)),\n",
    "            nn.MaxPool2d(kernel_size=2, stride=2),\n",
    "            \n",
    "            # ------------- put activation function------------------ #\n",
    "            nn.Tanh()\n",
    "            #------ ------------------------------------------------- #\n",
    "        )\n",
    "        \n",
    "    def forward(self, x):\n",
    "        return self.layers(x)"
   ]
  },
  {
   "cell_type": "code",
   "execution_count": 24,
   "metadata": {},
   "outputs": [],
   "source": [
    "class Classifier(nn.Module):\n",
    "    \n",
    "    def __init__(self, in_nch, out_nch, nch, kernel=3):\n",
    "        super(Classifier, self).__init__()\n",
    "        \n",
    "        # ------------- define the model ------------------ #\n",
    "        \n",
    "        self.conv_layers = nn.Sequential(\n",
    "            ConvolutionalBlock(in_nch, nch, kernel),\n",
    "            ConvolutionalBlock(nch, nch*2, kernel),\n",
    "            ConvolutionalBlock(nch*2, nch*4, kernel),\n",
    "        )\n",
    "        self.fcs = nn.Sequential(\n",
    "            Flatten(),\n",
    "            nn.Linear(4*4*(nch*4), 400),\n",
    "            nn.Linear(400, out_nch),\n",
    "            nn.Softmax()\n",
    "        )\n",
    "        \n",
    "        # ------------------------------------------------- #\n",
    "        \n",
    "    def forward(self, x):\n",
    "        # ------------- define the training process  ------------------ #\n",
    "        \n",
    "        x = self.conv_layers(x)\n",
    "        x = self.fcs(x)\n",
    "        \n",
    "        # ------------------------------------------------------------- #\n",
    "        return x"
   ]
  },
  {
   "cell_type": "markdown",
   "metadata": {},
   "source": [
    "---\n",
    "Well, next, some hyperparameters for training are mentioned in the first cell, and these for the model are shown in the second cell.\n",
    "\n",
    "---"
   ]
  },
  {
   "cell_type": "code",
   "execution_count": 25,
   "metadata": {},
   "outputs": [
    {
     "data": {
      "text/plain": [
       "'cuda'"
      ]
     },
     "execution_count": 25,
     "metadata": {},
     "output_type": "execute_result"
    }
   ],
   "source": [
    "epoch_num = 301\n",
    "lr = 0.001\n",
    "save_parameter = True # do you wanna save parameters ?\n",
    "test_interval = 3 # the interval among validation check\n",
    "device = \"cuda\" if torch.cuda.is_available() else \"cpu\"\n",
    "device"
   ]
  },
  {
   "cell_type": "code",
   "execution_count": 26,
   "metadata": {},
   "outputs": [],
   "source": [
    "in_nch = 1 # the number of color channels\n",
    "out_nch = len(classes) # the number of output channels, in this case, classes\n",
    "nch = 16"
   ]
  },
  {
   "cell_type": "markdown",
   "metadata": {},
   "source": [
    "---\n",
    "some algorithms are employed for optimization, loss function, and scheduler.\n",
    "- optimizer: Adam optimizer with default parameters\n",
    "- scheduler: learning rate scheduler which lowers the lr exponentially\n",
    "- loss function: Cross Entropy Loss (CELoss)\n",
    "\n",
    "---"
   ]
  },
  {
   "cell_type": "code",
   "execution_count": 27,
   "metadata": {},
   "outputs": [],
   "source": [
    "net = Classifier(in_nch, out_nch, nch)\n",
    "net = net.to(device)\n",
    "net.apply(weights_init)\n",
    "criterion = nn.CrossEntropyLoss()\n",
    "# criterion = nn.MSELoss()\n",
    "optimizer = optim.Adam(net.parameters(), lr=lr)\n",
    "scheduler = optim.lr_scheduler.ExponentialLR(optimizer, gamma=0.99)"
   ]
  },
  {
   "cell_type": "markdown",
   "metadata": {},
   "source": [
    "---\n",
    "This is the preparation of the dataset. *Dataloader* combines the individual data and into batch-sized data. And also it shuffles them if you want.\n",
    "\n",
    "---"
   ]
  },
  {
   "cell_type": "code",
   "execution_count": 31,
   "metadata": {},
   "outputs": [],
   "source": [
    "class Dataset_Fashion_MNIST(torch.utils.data.Dataset):\n",
    "    def __init__(self, root, classes, mode=\"train\", transform=None, balance=[0.7,0.15,0.15], each_data_num=10000000):\n",
    "        \n",
    "        self.transform = transform\n",
    "        self.images = []\n",
    "        self.labels = []\n",
    "\n",
    "        images = {} \n",
    "        labels = {}\n",
    "        \n",
    "        for cl in classes:\n",
    "            \n",
    "            # get data which is affiliated with a selected class\n",
    "            path_list = glob.glob(root + f\"{cl}/*\") \n",
    "            path_list.sort()\n",
    "            path_list = path_list[:each_data_num]\n",
    "            \n",
    "            # define the amount of training, validation, and test dataset\n",
    "            train_num = int(balance[0]*len(path_list))\n",
    "            val_num = int(balance[1]*len(path_list))\n",
    "            test_num = int(balance[2]*len(path_list))\n",
    "            \n",
    "            # get data which is affiliated with a selected mode\n",
    "            if mode==\"train\":\n",
    "                path_list = path_list[:train_num]\n",
    "            elif mode==\"val\":\n",
    "                path_list = path_list[train_num:train_num+val_num]\n",
    "            elif mode==\"test\":\n",
    "                path_list = path_list[-test_num:]\n",
    "                \n",
    "            images[str(cl)] = path_list\n",
    "            labels[str(cl)] = [cl]*len(path_list)\n",
    "            \n",
    "        # combine them together\n",
    "        for label in classes:\n",
    "            for image, label in zip(images[str(label)], labels[str(label)]):\n",
    "                self.images.append(image)\n",
    "                self.labels.append(label)\n",
    "\n",
    "    def __getitem__(self, index):\n",
    "        \n",
    "        image = self.images[index]\n",
    "        label = self.labels[index]\n",
    "        \n",
    "        with open(image, 'rb') as f:\n",
    "            image = Image.open(f)\n",
    "            image = image.convert(\"L\")\n",
    "        \n",
    "        if self.transform is not None:\n",
    "            image = self.transform(image)\n",
    "            \n",
    "        return image, label\n",
    "    \n",
    "    def __len__(self):\n",
    "        return len(self.images)"
   ]
  },
  {
   "cell_type": "code",
   "execution_count": 32,
   "metadata": {},
   "outputs": [
    {
     "data": {
      "text/plain": [
       "(10080, 2160)"
      ]
     },
     "execution_count": 32,
     "metadata": {},
     "output_type": "execute_result"
    }
   ],
   "source": [
    "# ----- adjustable parameters ----- #\n",
    "each_data_num = 1800\n",
    "train_batch = 512\n",
    "val_batch = 512\n",
    "# --------------------------------- #\n",
    "\n",
    "class_labels = [\"T-shirt\", \"Trouser\", \"Dress\", \"Coat\", \"Sandal\", \"Sneaker\", \"Bag\", \"Ankle_boot\"]\n",
    "root = \"../fashion_dataset1/\"\n",
    "classes = range(len(class_labels))\n",
    "\n",
    "dataset = Dataset_Fashion_MNIST(root, classes, \"train\", transform[\"train\"], each_data_num=each_data_num)\n",
    "dataloader = torch.utils.data.DataLoader(dataset=dataset, batch_size=train_batch, shuffle=True)\n",
    "valset = Dataset_Fashion_MNIST(root, classes, \"val\", transform[\"train\"], each_data_num=each_data_num)\n",
    "valloader = torch.utils.data.DataLoader(dataset=valset, batch_size=val_batch, shuffle=True)\n",
    "len(dataset), len(valset)"
   ]
  },
  {
   "cell_type": "markdown",
   "metadata": {},
   "source": [
    "# Classification\n",
    "---\n",
    "Let's train your model.\n",
    "The notebook gives you the losses and the accuracies in every epoch.\n",
    "What's more, it'll store the best epoch for the validation dataset, so you can call it when the training is finished.\n",
    "\n",
    "---"
   ]
  },
  {
   "cell_type": "code",
   "execution_count": 33,
   "metadata": {},
   "outputs": [
    {
     "ename": "RuntimeError",
     "evalue": "CUDA error: device-side assert triggered",
     "output_type": "error",
     "traceback": [
      "\u001b[0;31m---------------------------------------------------------------------------\u001b[0m",
      "\u001b[0;31mRuntimeError\u001b[0m                              Traceback (most recent call last)",
      "\u001b[0;32m<ipython-input-33-b6fc73ccca3a>\u001b[0m in \u001b[0;36m<module>\u001b[0;34m\u001b[0m\n\u001b[1;32m     15\u001b[0m         \u001b[0my\u001b[0m \u001b[0;34m=\u001b[0m \u001b[0mnet\u001b[0m\u001b[0;34m(\u001b[0m\u001b[0mx\u001b[0m\u001b[0;34m)\u001b[0m\u001b[0;34m\u001b[0m\u001b[0;34m\u001b[0m\u001b[0m\n\u001b[1;32m     16\u001b[0m         \u001b[0mloss\u001b[0m \u001b[0;34m=\u001b[0m \u001b[0mcriterion\u001b[0m\u001b[0;34m(\u001b[0m\u001b[0my\u001b[0m\u001b[0;34m,\u001b[0m \u001b[0mlabel\u001b[0m\u001b[0;34m)\u001b[0m\u001b[0;34m\u001b[0m\u001b[0;34m\u001b[0m\u001b[0m\n\u001b[0;32m---> 17\u001b[0;31m         \u001b[0mloss\u001b[0m\u001b[0;34m.\u001b[0m\u001b[0mbackward\u001b[0m\u001b[0;34m(\u001b[0m\u001b[0;34m)\u001b[0m\u001b[0;34m\u001b[0m\u001b[0;34m\u001b[0m\u001b[0m\n\u001b[0m\u001b[1;32m     18\u001b[0m         \u001b[0moptimizer\u001b[0m\u001b[0;34m.\u001b[0m\u001b[0mstep\u001b[0m\u001b[0;34m(\u001b[0m\u001b[0;34m)\u001b[0m\u001b[0;34m\u001b[0m\u001b[0;34m\u001b[0m\u001b[0m\n\u001b[1;32m     19\u001b[0m         \u001b[0mloss\u001b[0m \u001b[0;34m=\u001b[0m \u001b[0mcuda2numpy\u001b[0m\u001b[0;34m(\u001b[0m\u001b[0mloss\u001b[0m\u001b[0;34m)\u001b[0m\u001b[0;34m\u001b[0m\u001b[0;34m\u001b[0m\u001b[0m\n",
      "\u001b[0;32m/usr/local/lib/python3.6/dist-packages/torch/tensor.py\u001b[0m in \u001b[0;36mbackward\u001b[0;34m(self, gradient, retain_graph, create_graph)\u001b[0m\n\u001b[1;32m    193\u001b[0m                 \u001b[0mproducts\u001b[0m\u001b[0;34m.\u001b[0m \u001b[0mDefaults\u001b[0m \u001b[0mto\u001b[0m\u001b[0;31m \u001b[0m\u001b[0;31m`\u001b[0m\u001b[0;31m`\u001b[0m\u001b[0;32mFalse\u001b[0m\u001b[0;31m`\u001b[0m\u001b[0;31m`\u001b[0m\u001b[0;34m.\u001b[0m\u001b[0;34m\u001b[0m\u001b[0;34m\u001b[0m\u001b[0m\n\u001b[1;32m    194\u001b[0m         \"\"\"\n\u001b[0;32m--> 195\u001b[0;31m         \u001b[0mtorch\u001b[0m\u001b[0;34m.\u001b[0m\u001b[0mautograd\u001b[0m\u001b[0;34m.\u001b[0m\u001b[0mbackward\u001b[0m\u001b[0;34m(\u001b[0m\u001b[0mself\u001b[0m\u001b[0;34m,\u001b[0m \u001b[0mgradient\u001b[0m\u001b[0;34m,\u001b[0m \u001b[0mretain_graph\u001b[0m\u001b[0;34m,\u001b[0m \u001b[0mcreate_graph\u001b[0m\u001b[0;34m)\u001b[0m\u001b[0;34m\u001b[0m\u001b[0;34m\u001b[0m\u001b[0m\n\u001b[0m\u001b[1;32m    196\u001b[0m \u001b[0;34m\u001b[0m\u001b[0m\n\u001b[1;32m    197\u001b[0m     \u001b[0;32mdef\u001b[0m \u001b[0mregister_hook\u001b[0m\u001b[0;34m(\u001b[0m\u001b[0mself\u001b[0m\u001b[0;34m,\u001b[0m \u001b[0mhook\u001b[0m\u001b[0;34m)\u001b[0m\u001b[0;34m:\u001b[0m\u001b[0;34m\u001b[0m\u001b[0;34m\u001b[0m\u001b[0m\n",
      "\u001b[0;32m/usr/local/lib/python3.6/dist-packages/torch/autograd/__init__.py\u001b[0m in \u001b[0;36mbackward\u001b[0;34m(tensors, grad_tensors, retain_graph, create_graph, grad_variables)\u001b[0m\n\u001b[1;32m     91\u001b[0m         \u001b[0mgrad_tensors\u001b[0m \u001b[0;34m=\u001b[0m \u001b[0mlist\u001b[0m\u001b[0;34m(\u001b[0m\u001b[0mgrad_tensors\u001b[0m\u001b[0;34m)\u001b[0m\u001b[0;34m\u001b[0m\u001b[0;34m\u001b[0m\u001b[0m\n\u001b[1;32m     92\u001b[0m \u001b[0;34m\u001b[0m\u001b[0m\n\u001b[0;32m---> 93\u001b[0;31m     \u001b[0mgrad_tensors\u001b[0m \u001b[0;34m=\u001b[0m \u001b[0m_make_grads\u001b[0m\u001b[0;34m(\u001b[0m\u001b[0mtensors\u001b[0m\u001b[0;34m,\u001b[0m \u001b[0mgrad_tensors\u001b[0m\u001b[0;34m)\u001b[0m\u001b[0;34m\u001b[0m\u001b[0;34m\u001b[0m\u001b[0m\n\u001b[0m\u001b[1;32m     94\u001b[0m     \u001b[0;32mif\u001b[0m \u001b[0mretain_graph\u001b[0m \u001b[0;32mis\u001b[0m \u001b[0;32mNone\u001b[0m\u001b[0;34m:\u001b[0m\u001b[0;34m\u001b[0m\u001b[0;34m\u001b[0m\u001b[0m\n\u001b[1;32m     95\u001b[0m         \u001b[0mretain_graph\u001b[0m \u001b[0;34m=\u001b[0m \u001b[0mcreate_graph\u001b[0m\u001b[0;34m\u001b[0m\u001b[0;34m\u001b[0m\u001b[0m\n",
      "\u001b[0;32m/usr/local/lib/python3.6/dist-packages/torch/autograd/__init__.py\u001b[0m in \u001b[0;36m_make_grads\u001b[0;34m(outputs, grads)\u001b[0m\n\u001b[1;32m     33\u001b[0m                 \u001b[0;32mif\u001b[0m \u001b[0mout\u001b[0m\u001b[0;34m.\u001b[0m\u001b[0mnumel\u001b[0m\u001b[0;34m(\u001b[0m\u001b[0;34m)\u001b[0m \u001b[0;34m!=\u001b[0m \u001b[0;36m1\u001b[0m\u001b[0;34m:\u001b[0m\u001b[0;34m\u001b[0m\u001b[0;34m\u001b[0m\u001b[0m\n\u001b[1;32m     34\u001b[0m                     \u001b[0;32mraise\u001b[0m \u001b[0mRuntimeError\u001b[0m\u001b[0;34m(\u001b[0m\u001b[0;34m\"grad can be implicitly created only for scalar outputs\"\u001b[0m\u001b[0;34m)\u001b[0m\u001b[0;34m\u001b[0m\u001b[0;34m\u001b[0m\u001b[0m\n\u001b[0;32m---> 35\u001b[0;31m                 \u001b[0mnew_grads\u001b[0m\u001b[0;34m.\u001b[0m\u001b[0mappend\u001b[0m\u001b[0;34m(\u001b[0m\u001b[0mtorch\u001b[0m\u001b[0;34m.\u001b[0m\u001b[0mones_like\u001b[0m\u001b[0;34m(\u001b[0m\u001b[0mout\u001b[0m\u001b[0;34m,\u001b[0m \u001b[0mmemory_format\u001b[0m\u001b[0;34m=\u001b[0m\u001b[0mtorch\u001b[0m\u001b[0;34m.\u001b[0m\u001b[0mpreserve_format\u001b[0m\u001b[0;34m)\u001b[0m\u001b[0;34m)\u001b[0m\u001b[0;34m\u001b[0m\u001b[0;34m\u001b[0m\u001b[0m\n\u001b[0m\u001b[1;32m     36\u001b[0m             \u001b[0;32melse\u001b[0m\u001b[0;34m:\u001b[0m\u001b[0;34m\u001b[0m\u001b[0;34m\u001b[0m\u001b[0m\n\u001b[1;32m     37\u001b[0m                 \u001b[0mnew_grads\u001b[0m\u001b[0;34m.\u001b[0m\u001b[0mappend\u001b[0m\u001b[0;34m(\u001b[0m\u001b[0;32mNone\u001b[0m\u001b[0;34m)\u001b[0m\u001b[0;34m\u001b[0m\u001b[0;34m\u001b[0m\u001b[0m\n",
      "\u001b[0;31mRuntimeError\u001b[0m: CUDA error: device-side assert triggered"
     ]
    }
   ],
   "source": [
    "net.train()\n",
    "losses = []\n",
    "losses_epoch = []\n",
    "accs = []\n",
    "acc_epoch = []\n",
    "acc_test_list = []\n",
    "best_epoch = 0\n",
    "best_acc = 0\n",
    "for epoch in range(epoch_num):\n",
    "    for itr, data in enumerate(dataloader):\n",
    "        net.train()\n",
    "        x = data[0].to(device)\n",
    "        label = data[1].to(device)\n",
    "        optimizer.zero_grad()\n",
    "        y = net(x)\n",
    "        loss = criterion(y, label)\n",
    "        loss.backward()\n",
    "        optimizer.step()\n",
    "        loss = cuda2numpy(loss)\n",
    "        label = cuda2numpy(label)\n",
    "        y = cuda2numpy(y)\n",
    "        acc = (np.argmax(y, axis=1) == label).sum().item()/len(label)\n",
    "        losses.append(loss)\n",
    "        accs.append(acc)\n",
    "    scheduler.step()\n",
    "    losses_epoch.append(np.mean(np.array(losses)))\n",
    "    acc_epoch.append(np.mean(np.array(accs)))\n",
    "    if epoch%test_interval==0:\n",
    "        labels, outputs = do_test(net, valloader, device, \"eval\")\n",
    "        pred_labels = np.argmax(outputs, axis=1) \n",
    "        acc_test = accuracy_score(labels, pred_labels)\n",
    "        acc_test_list.append(acc_test)\n",
    "        if best_acc < acc_test:\n",
    "            best_acc = acc_test\n",
    "            best_epoch = epoch\n",
    "            \n",
    "    clear_output(wait=True)\n",
    "    print(epoch)\n",
    "    print(f\"test acc in {epoch//test_interval*test_interval} : {acc_test}\")\n",
    "    print(f\"best acc is   : {best_acc} in epoch{best_epoch}\")\n",
    "    \n",
    "    if save_parameter:\n",
    "        if epoch%test_interval==0:\n",
    "            torch.save(net.state_dict(), \n",
    "                       f\"../instant_parameters/classifier_nch{nch}_lr{lr}_epoch{epoch}.pth\")\n",
    "    fig = plt.figure(figsize=(10,5))\n",
    "    ax = fig.add_subplot(1,2,1)\n",
    "    ax.plot(losses_epoch)\n",
    "    ax.set_title(\"loss\")\n",
    "    ax = fig.add_subplot(1,2,2)\n",
    "    ax.plot(acc_epoch, label=\"train\")\n",
    "    ax.plot(np.arange(epoch//test_interval+1)*test_interval, acc_test_list, label=\"val\")\n",
    "    ax.legend()\n",
    "    ax.set_title('accuracy')\n",
    "    plt.show()"
   ]
  },
  {
   "cell_type": "markdown",
   "metadata": {},
   "source": [
    "## Result\n",
    "---\n",
    "It looks good!\n",
    "It's almost no sign of over-fitting.\n"
   ]
  },
  {
   "cell_type": "markdown",
   "metadata": {},
   "source": [
    "---\n",
    "Since this requires GPU to train quickly, I've stored the best parameters. So let's call it with the code below.\n",
    "\n",
    "---"
   ]
  },
  {
   "cell_type": "code",
   "execution_count": 25,
   "metadata": {},
   "outputs": [],
   "source": [
    "load_parameter = True\n",
    "if load_parameter:\n",
    "    model_path = f\"../data/parameters/classifier_nch16_lr0.001_epoch231.pth\"\n",
    "    model = torch.load(model_path)\n",
    "    net.load_state_dict(model)"
   ]
  },
  {
   "cell_type": "markdown",
   "metadata": {},
   "source": [
    "---\n",
    "This is the test dataset. Of course, this is separated from the training and the validation dataset.\n",
    "\n",
    "---"
   ]
  },
  {
   "cell_type": "code",
   "execution_count": 26,
   "metadata": {},
   "outputs": [
    {
     "data": {
      "text/plain": [
       "2400"
      ]
     },
     "execution_count": 26,
     "metadata": {},
     "output_type": "execute_result"
    }
   ],
   "source": [
    "# ----- adjustable parameters ----- #\n",
    "test_batch = 512\n",
    "# --------------------------------- #\n",
    "\n",
    "testset = Dataset_Fashion_MNIST(root, classes, \"test\", transform[\"test\"], each_data_num=each_data_num)\n",
    "testloader = torch.utils.data.DataLoader(dataset=testset, batch_size=train_batch, shuffle=False)\n",
    "len(testset)"
   ]
  },
  {
   "cell_type": "markdown",
   "metadata": {},
   "source": [
    "---\n",
    "Evaluate it many times.\n",
    "\n",
    "---"
   ]
  },
  {
   "cell_type": "code",
   "execution_count": 27,
   "metadata": {},
   "outputs": [
    {
     "name": "stdout",
     "output_type": "stream",
     "text": [
      "test acc is : 0.9462499999999998\n"
     ]
    }
   ],
   "source": [
    "# ----- adjustable parameters ----- #\n",
    "test_num = 10\n",
    "# --------------------------------- #\n",
    "\n",
    "acc_list = []\n",
    "cm_list = []\n",
    "for i in range(test_num):\n",
    "    print(i)\n",
    "    labels, outputs = do_test(net, testloader, device, \"eval\")\n",
    "    pred_labels = np.argmax(outputs, axis=1) \n",
    "    acc_test = accuracy_score(labels, pred_labels)\n",
    "    acc_list.append(acc_test)\n",
    "    cm = confusion_matrix(labels, pred_labels, labels=np.arange(len(classes)))\n",
    "    cm_list.append(cm)\n",
    "    clear_output(wait=True)\n",
    "print(f\"test acc is : {np.mean(acc_list)}\")"
   ]
  },
  {
   "cell_type": "markdown",
   "metadata": {},
   "source": [
    "---\n",
    "Check the detail (confusion matrix)\n",
    "\n",
    "---"
   ]
  },
  {
   "cell_type": "code",
   "execution_count": 28,
   "metadata": {},
   "outputs": [
    {
     "data": {
      "image/png": "[encoded data removed]",
      "text/plain": [
       "<Figure size 720x576 with 2 Axes>"
      ]
     },
     "metadata": {
      "needs_background": "light"
     },
     "output_type": "display_data"
    }
   ],
   "source": [
    "class_idx_lbl = class_labels.copy()\n",
    "for i in range(len(class_labels)):\n",
    "    class_idx_lbl[i] = f\"{i}:{class_labels[i]}\"\n",
    "        \n",
    "cm = np.mean(np.array(cm_list), axis=0)\n",
    "plot_confusion_matrix(cm, class_idx_lbl, normalize=False)"
   ]
  },
  {
   "cell_type": "markdown",
   "metadata": {},
   "source": [
    "---\n",
    "The accuracy is quite good enough. The model seems to have difficulty in classification of tops\n",
    "\n",
    "---"
   ]
  },
  {
   "cell_type": "markdown",
   "metadata": {},
   "source": [
    "## Misclassification\n",
    "---\n",
    "It's also essential to observe the mis-classification in order to improve your model or to find some flaws of the model.\n",
    "\n",
    "---"
   ]
  },
  {
   "cell_type": "code",
   "execution_count": 29,
   "metadata": {},
   "outputs": [
    {
     "name": "stdout",
     "output_type": "stream",
     "text": [
      "\n",
      "the samples of 'Bag' which are classified as 'Sandal''\n",
      "\n"
     ]
    },
    {
     "data": {
      "image/png": "[encoded data removed]",
      "text/plain": [
       "<Figure size 2160x864 with 1 Axes>"
      ]
     },
     "metadata": {
      "needs_background": "light"
     },
     "output_type": "display_data"
    }
   ],
   "source": [
    "# ----- adjustable parameters ----- #\n",
    "true_class = 6\n",
    "misclassified_class = 4\n",
    "display_num = 10\n",
    "# --------------------------------- #\n",
    "\n",
    "print(\"\")\n",
    "print(f\"the samples of '{class_labels[true_class]}' which are classified as '{class_labels[misclassified_class]}''\")\n",
    "print(\"\")\n",
    "fig = plt.figure(figsize=(30, 12))\n",
    "miss_index_list = np.arange(len(labels))[np.array(np.array(pred_labels==misclassified_class, dtype=np.int) * np.array(labels==true_class, dtype=np.int), dtype=np.bool)]\n",
    "for i in range(len(miss_index_list[:display_num])):\n",
    "    ax = fig.add_subplot(2, 5, i+1)\n",
    "    x, label = testset[miss_index_list[i]]\n",
    "    ax.imshow(image_from_numpy(cuda2numpy(x[np.newaxis]))[0])"
   ]
  },
  {
   "cell_type": "code",
   "execution_count": null,
   "metadata": {},
   "outputs": [],
   "source": []
  }
 ],
 "metadata": {
  "kernelspec": {
   "display_name": "Python 3",
   "language": "python",
   "name": "python3"
  },
  "language_info": {
   "codemirror_mode": {
    "name": "ipython",
    "version": 3
   },
   "file_extension": ".py",
   "mimetype": "text/x-python",
   "name": "python",
   "nbconvert_exporter": "python",
   "pygments_lexer": "ipython3",
   "version": "3.6.9"
  }
 },
 "nbformat": 4,
 "nbformat_minor": 4
}
